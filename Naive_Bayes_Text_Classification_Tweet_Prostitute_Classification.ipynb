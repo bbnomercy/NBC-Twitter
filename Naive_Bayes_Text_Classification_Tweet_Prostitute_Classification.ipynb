{
  "nbformat": 4,
  "nbformat_minor": 0,
  "metadata": {
    "colab": {
      "name": "Naive Bayes Text Classification - Tweet Prostitute Classification.ipynb",
      "provenance": [],
      "authorship_tag": "ABX9TyNdv+flOIBRgb0spXTfSdKo",
      "include_colab_link": true
    },
    "kernelspec": {
      "name": "python3",
      "display_name": "Python 3"
    }
  },
  "cells": [
    {
      "cell_type": "markdown",
      "metadata": {
        "id": "view-in-github",
        "colab_type": "text"
      },
      "source": [
        "<a href=\"https://colab.research.google.com/github/lukmandev/NBC-Twitter/blob/master/Naive_Bayes_Text_Classification_Tweet_Prostitute_Classification.ipynb\" target=\"_parent\"><img src=\"https://colab.research.google.com/assets/colab-badge.svg\" alt=\"Open In Colab\"/></a>"
      ]
    },
    {
      "cell_type": "markdown",
      "metadata": {
        "id": "BEZR_UZS-apx",
        "colab_type": "text"
      },
      "source": [
        "Pada notebook ini menampilkan metode klasifikasi dokumen teks menggunakan metode Naive Bayes untuk melakukan prediksi data twitter yang termasuk dalam kategori prostitusi atau bukan prostitusi.\n",
        "\n",
        "Dataset diambil dari twitter sebanyak 40000 data termasuk dalam kategori true (prostitusi) sebanyak 20000 dan false (bukan prostitusi) sebanyak 20000 data.\n"
      ]
    },
    {
      "cell_type": "markdown",
      "metadata": {
        "id": "3A580Hn-_F05",
        "colab_type": "text"
      },
      "source": [
        "Pertama, import modul python yang digunakan untuk proses preprocessing dan pembuatan model untuk dilakukan klasifikasi."
      ]
    },
    {
      "cell_type": "code",
      "metadata": {
        "id": "WrnLxI6H-Phi",
        "colab_type": "code",
        "colab": {}
      },
      "source": [
        "import pandas as pd\n",
        "import string\n",
        "import numpy as np\n",
        "import re\n",
        "import random\n",
        "from nltk.tokenize import word_tokenize\n",
        "from sklearn.feature_extraction.text import CountVectorizer,TfidfTransformer\n",
        "from sklearn.model_selection import train_test_split\n",
        "from sklearn.metrics import accuracy_score,confusion_matrix,classification_report\n",
        "from sklearn.naive_bayes import MultinomialNB"
      ],
      "execution_count": 0,
      "outputs": []
    },
    {
      "cell_type": "markdown",
      "metadata": {
        "id": "FBpIw1Vj_ahS",
        "colab_type": "text"
      },
      "source": [
        "Import semua dataset yang akan dilakukan klasifikasi\n"
      ]
    },
    {
      "cell_type": "code",
      "metadata": {
        "id": "_SLD6cnM_lLr",
        "colab_type": "code",
        "colab": {}
      },
      "source": [
        "data_train_true = pd.read_excel('/content/twitter-prostitute.xlsx')\n",
        "data_train_false = pd.read_excel('/content/twitter-not-prostitute.xlsx')"
      ],
      "execution_count": 0,
      "outputs": []
    },
    {
      "cell_type": "markdown",
      "metadata": {
        "id": "mVZEK9Jo_5tO",
        "colab_type": "text"
      },
      "source": [
        "Gabungkan data true (prostitute) dan data false (not prostitute)"
      ]
    },
    {
      "cell_type": "code",
      "metadata": {
        "id": "TgZjF7bW_vGN",
        "colab_type": "code",
        "colab": {}
      },
      "source": [
        "dataset = pd.concat([data_train_true, data_train_false], ignore_index = True)"
      ],
      "execution_count": 0,
      "outputs": []
    },
    {
      "cell_type": "code",
      "metadata": {
        "id": "aA6Zcud9_9i8",
        "colab_type": "code",
        "colab": {
          "base_uri": "https://localhost:8080/",
          "height": 153
        },
        "outputId": "f221c247-51a7-4950-b8ff-790e397a1f65"
      },
      "source": [
        "print(dataset[:5])"
      ],
      "execution_count": 4,
      "outputs": [
        {
          "output_type": "stream",
          "text": [
            "                    id  ... status\n",
            "0  1255052854739398658  ...      1\n",
            "1  1255052799798202373  ...      1\n",
            "2  1255052613646573569  ...      1\n",
            "3  1255052558667661312  ...      1\n",
            "4  1255052557061287938  ...      1\n",
            "\n",
            "[5 rows x 5 columns]\n"
          ],
          "name": "stdout"
        }
      ]
    },
    {
      "cell_type": "code",
      "metadata": {
        "id": "jdhVwFx8ADg3",
        "colab_type": "code",
        "colab": {
          "base_uri": "https://localhost:8080/",
          "height": 119
        },
        "outputId": "92100f61-369a-4ef7-e530-72a1b35400d2"
      },
      "source": [
        "print(dataset['tweet'][:5])"
      ],
      "execution_count": 5,
      "outputs": [
        {
          "output_type": "stream",
          "text": [
            "0    AvaiL BO yaa beb😙\\nWA 0831 9315 9762\\n#AvailJo...\n",
            "1    Include exclude Ready beb \\nWa 0831 9315 9762\\...\n",
            "2    AvaiL Jogja Minat DM aja😍\\nFasht Respon.\\n#Ava...\n",
            "3    MAEN SANTAI GA BURU\" \\nFULL SERVICE NO ANAL US...\n",
            "4    New bie...Ready ya..2 slot aja 085647266101\\n#...\n",
            "Name: tweet, dtype: object\n"
          ],
          "name": "stdout"
        }
      ]
    },
    {
      "cell_type": "code",
      "metadata": {
        "id": "SdKJJ2rRAJzT",
        "colab_type": "code",
        "colab": {
          "base_uri": "https://localhost:8080/",
          "height": 34
        },
        "outputId": "a678a239-245a-4ea3-dda7-6726f7814aea"
      },
      "source": [
        "print(len(dataset))"
      ],
      "execution_count": 6,
      "outputs": [
        {
          "output_type": "stream",
          "text": [
            "40000\n"
          ],
          "name": "stdout"
        }
      ]
    },
    {
      "cell_type": "markdown",
      "metadata": {
        "id": "ZaMpn8SuAPUm",
        "colab_type": "text"
      },
      "source": [
        "Setelah data berhasil dibuka, saatnya melakukan preprocessing pada teks. Yang akan dilakukan preprocessing yaitu data pada kolom **tweet** dimana data ini berisi tweet yang diambil dari twitter."
      ]
    },
    {
      "cell_type": "markdown",
      "metadata": {
        "id": "WDjaYQaQAjkg",
        "colab_type": "text"
      },
      "source": [
        "Ada beberapa process preprocessing yaitu cleaning text atau membersihkan text dari noise dan tokenizing yaitu memecah semua text menjadi per kata."
      ]
    },
    {
      "cell_type": "code",
      "metadata": {
        "id": "YaI99UbMAi6s",
        "colab_type": "code",
        "colab": {}
      },
      "source": [
        "stopwords_file = open(\"/content/stopwords-id.txt\", 'r')\n",
        "stopwords = [x.strip() for x in stopwords_file.readlines()]\n",
        "stopwords.extend(['by', 'rt', 'via'])\n",
        "\n",
        "def cleaning(text):\n",
        "\ttext = re.sub(r'<[^>]+>', '', text) #delete html tags\n",
        "\ttext = re.sub(r'\\S*twitter.com\\S*', '', text)   #delete twitter image\n",
        "\ttext = re.sub(r'https?://[A-Za-z0-9./]+','',text) #delete url\n",
        "\ttext = re.sub(r'@[A-Za-z0-9]+','',text) #delete user mention\n",
        "\ttext = re.sub(r'#[A-Za-z0-9]+','',text) #delete twitter hashtag\n",
        "\ttext = re.sub(r'(?:(?:\\d+,?)+(?:\\.?\\d+)?)','', text) #delete number\n",
        "\ttext = re.sub(r\"[^a-zA-Z]\", \" \", text) #only accept alphabet char\n",
        "\ttext = re.sub(r\"(\\w)(\\1{2,})\", r'\\1', text) #delete repeated char\n",
        "\ttext = re.sub(r\"\\b[a-zA-Z]\\b\", \"\", text) #remove single character\n",
        "\ttext = text.lower() #change to lowercase\n",
        "\treturn text\n",
        "\n",
        "def tokenize(text):\n",
        "\t#disini diisi dengan stop words\n",
        "\twords = text.split();\n",
        "\twords = [w for w in words if w not in stopwords]\n",
        "\treturn words"
      ],
      "execution_count": 0,
      "outputs": []
    },
    {
      "cell_type": "markdown",
      "metadata": {
        "id": "kYICDfwJBS5Z",
        "colab_type": "text"
      },
      "source": [
        "Cleaning text pada data tweet"
      ]
    },
    {
      "cell_type": "code",
      "metadata": {
        "id": "7WF58mtJANuS",
        "colab_type": "code",
        "colab": {}
      },
      "source": [
        "dataset['tweet'] = dataset.tweet.map(lambda x: cleaning(x))"
      ],
      "execution_count": 0,
      "outputs": []
    },
    {
      "cell_type": "code",
      "metadata": {
        "id": "5EdgUnlaBd1Q",
        "colab_type": "code",
        "colab": {
          "base_uri": "https://localhost:8080/",
          "height": 119
        },
        "outputId": "9ccb5e73-a336-46a7-f900-ef5e2ff37680"
      },
      "source": [
        "print(dataset['tweet'][:5])"
      ],
      "execution_count": 9,
      "outputs": [
        {
          "output_type": "stream",
          "text": [
            "0             avail bo yaa beb  wa                    \n",
            "1    include exclude ready beb  wa                 ...\n",
            "2    avail jogja minat dm aja  fasht respon        ...\n",
            "3    maen santai ga buru   full service no anal use...\n",
            "4      new bie   ready ya   slot aja                  \n",
            "Name: tweet, dtype: object\n"
          ],
          "name": "stdout"
        }
      ]
    },
    {
      "cell_type": "markdown",
      "metadata": {
        "id": "SzotiJo9BlFh",
        "colab_type": "text"
      },
      "source": [
        "Tokenizing text pada data tweet"
      ]
    },
    {
      "cell_type": "code",
      "metadata": {
        "id": "Tcygac3MBjgR",
        "colab_type": "code",
        "colab": {}
      },
      "source": [
        "dataset['tweet'] = dataset.tweet.apply(lambda x: tokenize(x))"
      ],
      "execution_count": 0,
      "outputs": []
    },
    {
      "cell_type": "code",
      "metadata": {
        "id": "cbDgZz10Brw0",
        "colab_type": "code",
        "colab": {
          "base_uri": "https://localhost:8080/",
          "height": 119
        },
        "outputId": "0d0f4523-2cf8-45eb-f245-8c268732010b"
      },
      "source": [
        "print(dataset['tweet'][:5])"
      ],
      "execution_count": 11,
      "outputs": [
        {
          "output_type": "stream",
          "text": [
            "0                            [avail, bo, yaa, beb, wa]\n",
            "1                   [include, exclude, ready, beb, wa]\n",
            "2        [avail, jogja, minat, dm, aja, fasht, respon]\n",
            "3    [maen, santai, ga, buru, full, service, no, an...\n",
            "4                     [new, bie, ready, ya, slot, aja]\n",
            "Name: tweet, dtype: object\n"
          ],
          "name": "stdout"
        }
      ]
    },
    {
      "cell_type": "markdown",
      "metadata": {
        "id": "MUVEJk8PBw2x",
        "colab_type": "text"
      },
      "source": [
        "Menggabungkan semua tweet menggunakan spasi untuk dilakukan tahap selanjutnya yaitu pembuatan vektor"
      ]
    },
    {
      "cell_type": "code",
      "metadata": {
        "id": "8REtg1qVB7vI",
        "colab_type": "code",
        "colab": {}
      },
      "source": [
        "dataset['tweet'] = dataset.tweet.apply(lambda x: ' '.join(x))"
      ],
      "execution_count": 0,
      "outputs": []
    },
    {
      "cell_type": "markdown",
      "metadata": {
        "id": "hPfEVYL6CARh",
        "colab_type": "text"
      },
      "source": [
        "Memasukkan label ke array"
      ]
    },
    {
      "cell_type": "code",
      "metadata": {
        "id": "GTep37EIB-B1",
        "colab_type": "code",
        "colab": {}
      },
      "source": [
        "dataset['label'] = dataset.status.map(lambda x: x)"
      ],
      "execution_count": 0,
      "outputs": []
    },
    {
      "cell_type": "code",
      "metadata": {
        "id": "zqXWGfq3CJdB",
        "colab_type": "code",
        "colab": {}
      },
      "source": [
        "count_vect = CountVectorizer()\n",
        "counts = count_vect.fit_transform(dataset['tweet'])"
      ],
      "execution_count": 0,
      "outputs": []
    },
    {
      "cell_type": "code",
      "metadata": {
        "id": "LpGsFwGgCNz0",
        "colab_type": "code",
        "colab": {
          "base_uri": "https://localhost:8080/",
          "height": 578
        },
        "outputId": "ecdf2da3-3098-4d69-9073-6603f6f4a03d"
      },
      "source": [
        "print(counts[:5])"
      ],
      "execution_count": 15,
      "outputs": [
        {
          "output_type": "stream",
          "text": [
            "  (0, 1715)\t1\n",
            "  (0, 4248)\t1\n",
            "  (0, 37085)\t1\n",
            "  (0, 2486)\t1\n",
            "  (0, 36375)\t1\n",
            "  (1, 2486)\t1\n",
            "  (1, 36375)\t1\n",
            "  (1, 13185)\t1\n",
            "  (1, 9869)\t1\n",
            "  (1, 28573)\t1\n",
            "  (2, 1715)\t1\n",
            "  (2, 14328)\t1\n",
            "  (2, 21932)\t1\n",
            "  (2, 8839)\t1\n",
            "  (2, 466)\t1\n",
            "  (2, 10073)\t1\n",
            "  (2, 28935)\t1\n",
            "  (3, 18837)\t1\n",
            "  (3, 29840)\t1\n",
            "  (3, 10628)\t1\n",
            "  (3, 4838)\t1\n",
            "  (3, 10577)\t1\n",
            "  (3, 31068)\t1\n",
            "  (3, 23900)\t1\n",
            "  (3, 975)\t1\n",
            "  (3, 36000)\t1\n",
            "  (3, 5072)\t1\n",
            "  (4, 28573)\t1\n",
            "  (4, 466)\t1\n",
            "  (4, 23215)\t1\n",
            "  (4, 3936)\t1\n",
            "  (4, 37084)\t1\n",
            "  (4, 31856)\t1\n"
          ],
          "name": "stdout"
        }
      ]
    },
    {
      "cell_type": "markdown",
      "metadata": {
        "id": "nFJBIp8pCWeY",
        "colab_type": "text"
      },
      "source": [
        "Disini mentransformasikan semua feature kata menggunakan TF IDF"
      ]
    },
    {
      "cell_type": "code",
      "metadata": {
        "id": "yRW07JgoCSpU",
        "colab_type": "code",
        "colab": {}
      },
      "source": [
        "transformer = TfidfTransformer().fit(counts)\n",
        "counts = transformer.transform(counts)"
      ],
      "execution_count": 0,
      "outputs": []
    },
    {
      "cell_type": "code",
      "metadata": {
        "id": "qOD4BWEeCcCB",
        "colab_type": "code",
        "colab": {
          "base_uri": "https://localhost:8080/",
          "height": 578
        },
        "outputId": "8098ff15-2cb7-48b0-c407-17d857deb5d2"
      },
      "source": [
        "print(counts[:5])"
      ],
      "execution_count": 17,
      "outputs": [
        {
          "output_type": "stream",
          "text": [
            "  (0, 37085)\t0.5911705953129078\n",
            "  (0, 36375)\t0.2822194474686629\n",
            "  (0, 4248)\t0.3843499205847922\n",
            "  (0, 2486)\t0.47674485769290337\n",
            "  (0, 1715)\t0.44255958911507276\n",
            "  (1, 36375)\t0.2866682929106074\n",
            "  (1, 28573)\t0.38428108764986996\n",
            "  (1, 13185)\t0.49885978763514066\n",
            "  (1, 9869)\t0.5355187636154758\n",
            "  (1, 2486)\t0.4842601590165411\n",
            "  (2, 28935)\t0.3746459280373387\n",
            "  (2, 21932)\t0.2760387849741051\n",
            "  (2, 14328)\t0.21527389492118496\n",
            "  (2, 10073)\t0.7561577668564705\n",
            "  (2, 8839)\t0.18528478090139275\n",
            "  (2, 1715)\t0.2457130613228591\n",
            "  (2, 466)\t0.2657446914706499\n",
            "  (3, 36000)\t0.38496965117902543\n",
            "  (3, 31068)\t0.322521532751217\n",
            "  (3, 29840)\t0.2868751168311405\n",
            "  (3, 23900)\t0.17759626056082173\n",
            "  (3, 18837)\t0.3707445553998642\n",
            "  (3, 10628)\t0.2008833216432625\n",
            "  (3, 10577)\t0.2868751168311405\n",
            "  (3, 5072)\t0.34646183022969057\n",
            "  (3, 4838)\t0.3628687482176093\n",
            "  (3, 975)\t0.34946812299802377\n",
            "  (4, 37084)\t0.2176563413269418\n",
            "  (4, 31856)\t0.28790259324420076\n",
            "  (4, 28573)\t0.23764296132175766\n",
            "  (4, 23215)\t0.44937909480755067\n",
            "  (4, 3936)\t0.7217514546474594\n",
            "  (4, 466)\t0.30066077842293026\n"
          ],
          "name": "stdout"
        }
      ]
    },
    {
      "cell_type": "markdown",
      "metadata": {
        "id": "ERknZNC9Cjlp",
        "colab_type": "text"
      },
      "source": [
        "Kemudian setelah semua kata memiliki bobot tersendiri sesuai dengan transformasi vektor TF IDF, disini pembagian data training dan data testing dengan alokasi 80% train:20% test"
      ]
    },
    {
      "cell_type": "code",
      "metadata": {
        "id": "Jny-qus6CjVK",
        "colab_type": "code",
        "colab": {}
      },
      "source": [
        "feature_train, feature_test, target_train, target_test = train_test_split(counts, dataset['label'], train_size=0.8, test_size=0.2, random_state=52)"
      ],
      "execution_count": 0,
      "outputs": []
    },
    {
      "cell_type": "code",
      "metadata": {
        "id": "_cj-KPmdC2K8",
        "colab_type": "code",
        "colab": {}
      },
      "source": [
        "model = MultinomialNB()\n",
        "model.fit(feature_train, target_train)\n",
        "predicted = model.predict(feature_test)"
      ],
      "execution_count": 0,
      "outputs": []
    },
    {
      "cell_type": "markdown",
      "metadata": {
        "id": "f78RGFmWC8hh",
        "colab_type": "text"
      },
      "source": [
        "Untuk menghitung akurasi model yang sudah dibuat, dapat menggunakan accuracy_score dari scikitlearn"
      ]
    },
    {
      "cell_type": "code",
      "metadata": {
        "id": "AFCSWoy9C6_m",
        "colab_type": "code",
        "colab": {}
      },
      "source": [
        "accuracy = accuracy_score(target_test, predicted)"
      ],
      "execution_count": 0,
      "outputs": []
    },
    {
      "cell_type": "code",
      "metadata": {
        "id": "86kft79mDEqg",
        "colab_type": "code",
        "colab": {
          "base_uri": "https://localhost:8080/",
          "height": 34
        },
        "outputId": "890e723d-58f0-43aa-82e8-1ef0ccf5b5de"
      },
      "source": [
        "print(accuracy)"
      ],
      "execution_count": 21,
      "outputs": [
        {
          "output_type": "stream",
          "text": [
            "0.983375\n"
          ],
          "name": "stdout"
        }
      ]
    },
    {
      "cell_type": "markdown",
      "metadata": {
        "id": "1zLtNNb2DKg1",
        "colab_type": "text"
      },
      "source": [
        "Untuk pengujian, menggunakan confusion matrix sebagai berikut ini:"
      ]
    },
    {
      "cell_type": "code",
      "metadata": {
        "id": "o37R503UDIgR",
        "colab_type": "code",
        "colab": {}
      },
      "source": [
        "c_matrix = confusion_matrix(target_test, predicted)"
      ],
      "execution_count": 0,
      "outputs": []
    },
    {
      "cell_type": "code",
      "metadata": {
        "id": "np0A8yymDgbP",
        "colab_type": "code",
        "colab": {
          "base_uri": "https://localhost:8080/",
          "height": 51
        },
        "outputId": "302ebb30-2559-4670-9e96-c80ba475092e"
      },
      "source": [
        "print(c_matrix)"
      ],
      "execution_count": 25,
      "outputs": [
        {
          "output_type": "stream",
          "text": [
            "[[3940   73]\n",
            " [  60 3927]]\n"
          ],
          "name": "stdout"
        }
      ]
    },
    {
      "cell_type": "markdown",
      "metadata": {
        "id": "UM2UJUThDldR",
        "colab_type": "text"
      },
      "source": [
        "Untuk melihat laporan klasifikasi, menggunakan classification_report "
      ]
    },
    {
      "cell_type": "code",
      "metadata": {
        "id": "Nsp938bxDuXr",
        "colab_type": "code",
        "colab": {}
      },
      "source": [
        "c_report = classification_report(target_test, predicted)"
      ],
      "execution_count": 0,
      "outputs": []
    },
    {
      "cell_type": "code",
      "metadata": {
        "id": "-WupjV2IDwD7",
        "colab_type": "code",
        "colab": {
          "base_uri": "https://localhost:8080/",
          "height": 170
        },
        "outputId": "66c04855-56b3-4a01-e409-85676201ae7f"
      },
      "source": [
        "print(c_report)"
      ],
      "execution_count": 27,
      "outputs": [
        {
          "output_type": "stream",
          "text": [
            "              precision    recall  f1-score   support\n",
            "\n",
            "           0       0.98      0.98      0.98      4013\n",
            "           1       0.98      0.98      0.98      3987\n",
            "\n",
            "    accuracy                           0.98      8000\n",
            "   macro avg       0.98      0.98      0.98      8000\n",
            "weighted avg       0.98      0.98      0.98      8000\n",
            "\n"
          ],
          "name": "stdout"
        }
      ]
    }
  ]
}