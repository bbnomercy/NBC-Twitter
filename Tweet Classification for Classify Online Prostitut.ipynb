{
  "nbformat": 4,
  "nbformat_minor": 0,
  "metadata": {
    "kernelspec": {
      "language": "python",
      "display_name": "Python 3",
      "name": "python3"
    },
    "language_info": {
      "pygments_lexer": "ipython3",
      "nbconvert_exporter": "python",
      "version": "3.6.4",
      "file_extension": ".py",
      "codemirror_mode": {
        "name": "ipython",
        "version": 3
      },
      "name": "python",
      "mimetype": "text/x-python"
    },
    "colab": {
      "name": "Tweet Classification for Classify Online Prostitut.ipynb",
      "provenance": [],
      "include_colab_link": true
    }
  },
  "cells": [
    {
      "cell_type": "markdown",
      "metadata": {
        "id": "view-in-github",
        "colab_type": "text"
      },
      "source": [
        "<a href=\"https://colab.research.google.com/github/lukmandev/NBC-Twitter/blob/master/Tweet%20Classification%20for%20Classify%20Online%20Prostitut.ipynb\" target=\"_parent\"><img src=\"https://colab.research.google.com/assets/colab-badge.svg\" alt=\"Open In Colab\"/></a>"
      ]
    },
    {
      "cell_type": "markdown",
      "metadata": {
        "id": "eryZlfmUnzvH",
        "colab_type": "raw"
      },
      "source": [
        "Pada notebook ini akan menerapkan model klasifikasi teks pada data Twitter menggunakan metode Naive Bayes Classifier untuk melakukan klasifikasi tweet dalam kategori prostitusi (True) ataupun bukan prostitusi (False).\n",
        "\n",
        "\n",
        "Dataset yang dimasukkan disini meliputi data training dan data testing. Ada 40000 data training yang dibagi menjadi dua bagian, yaitu data 20000 True (prostitusi) dan 20000 data False (bukan prostitusi), dan 10000 data sebagai data testing.\n",
        "\n",
        "Pengujian dilakukan untuk menentukan akurasi klasifikasi metode NBC dan menggunakan Confusion Matrix"
      ]
    },
    {
      "cell_type": "markdown",
      "metadata": {
        "id": "OSP8HsN3nzvI",
        "colab_type": "text"
      },
      "source": [
        "Langkah pertama, persiapkan module python yang akan digunakan"
      ]
    },
    {
      "cell_type": "code",
      "metadata": {
        "trusted": true,
        "id": "-Luf19yynzvJ",
        "colab_type": "code",
        "colab": {}
      },
      "source": [
        "import pandas as pd\n",
        "import string\n",
        "import numpy as np\n",
        "import nltk\n",
        "import re\n",
        "import random\n",
        "from nltk.tokenize import word_tokenize\n",
        "from nltk import FreqDist,classify, NaiveBayesClassifier\n",
        "from sklearn.metrics import confusion_matrix,classification_report\n",
        "from collections import Counter"
      ],
      "execution_count": 0,
      "outputs": []
    },
    {
      "cell_type": "markdown",
      "metadata": {
        "id": "ULgQjnjcnzvN",
        "colab_type": "text"
      },
      "source": [
        "Import data training dan data testing"
      ]
    },
    {
      "cell_type": "code",
      "metadata": {
        "trusted": true,
        "id": "K_Jaoee3nzvO",
        "colab_type": "code",
        "colab": {}
      },
      "source": [
        "data_train_true = pd.read_excel('../content/twitter-prostitute.xlsx')\n",
        "data_train_false = pd.read_excel('../content/twitter-not-prostitute.xlsx')\n",
        "data_test = pd.read_csv('../content/random-tweet-06052020.csv')"
      ],
      "execution_count": 0,
      "outputs": []
    },
    {
      "cell_type": "code",
      "metadata": {
        "trusted": true,
        "id": "1c0Xiq3HnzvR",
        "colab_type": "code",
        "colab": {
          "base_uri": "https://localhost:8080/",
          "height": 153
        },
        "outputId": "45a10fe9-8b14-4bf2-9b0f-5a14791b078e"
      },
      "source": [
        "print(data_train_true.head())"
      ],
      "execution_count": 4,
      "outputs": [
        {
          "output_type": "stream",
          "text": [
            "                    id  ... status\n",
            "0  1255052854739398658  ...      1\n",
            "1  1255052799798202373  ...      1\n",
            "2  1255052613646573569  ...      1\n",
            "3  1255052558667661312  ...      1\n",
            "4  1255052557061287938  ...      1\n",
            "\n",
            "[5 rows x 5 columns]\n"
          ],
          "name": "stdout"
        }
      ]
    },
    {
      "cell_type": "code",
      "metadata": {
        "trusted": true,
        "id": "Lmsaf6sZnzvU",
        "colab_type": "code",
        "colab": {
          "base_uri": "https://localhost:8080/",
          "height": 153
        },
        "outputId": "bcf541a5-eb94-4246-c20c-61b35ff03137"
      },
      "source": [
        "print(data_train_false.head())"
      ],
      "execution_count": 5,
      "outputs": [
        {
          "output_type": "stream",
          "text": [
            "                    id  ... status\n",
            "0  1260000000000000000  ...      0\n",
            "1  1260000000000000000  ...      0\n",
            "2  1260000000000000000  ...      0\n",
            "3  1260000000000000000  ...      0\n",
            "4  1260000000000000000  ...      0\n",
            "\n",
            "[5 rows x 5 columns]\n"
          ],
          "name": "stdout"
        }
      ]
    },
    {
      "cell_type": "code",
      "metadata": {
        "trusted": true,
        "id": "gNmNfxcWnzvX",
        "colab_type": "code",
        "colab": {
          "base_uri": "https://localhost:8080/",
          "height": 153
        },
        "outputId": "192a4dec-591d-46fb-d76e-26c5d5fb372e"
      },
      "source": [
        "print(data_test.head())"
      ],
      "execution_count": 6,
      "outputs": [
        {
          "output_type": "stream",
          "text": [
            "                    id  ...                                              tweet\n",
            "0  1257725347119788033  ...                                         ko km gt:(\n",
            "1  1257725346847186947  ...             Waktu indonesia bagian overthinking :f\n",
            "2  1257725346314547205  ...           efek mau dapet huh kmrn w juga gitu ndoy\n",
            "3  1257725346222243841  ...                                              Ampun\n",
            "4  1257725346100637696  ...  Btw aku dapet ads ultah baekkie pic.twitter.co...\n",
            "\n",
            "[5 rows x 4 columns]\n"
          ],
          "name": "stdout"
        }
      ]
    },
    {
      "cell_type": "code",
      "metadata": {
        "trusted": true,
        "id": "WusfmB0knzvb",
        "colab_type": "code",
        "colab": {
          "base_uri": "https://localhost:8080/",
          "height": 68
        },
        "outputId": "e031b4ed-37f6-437e-ae99-24c0667b6315"
      },
      "source": [
        "print(f\"Jumlah data training (True)\\t:\\t{len(data_train_true)}\")\n",
        "print(f\"Jumlah data training (False)\\t:\\t{len(data_train_false)}\")\n",
        "print(f\"Jumlah data test\\t\\t:\\t{len(data_test)}\")"
      ],
      "execution_count": 7,
      "outputs": [
        {
          "output_type": "stream",
          "text": [
            "Jumlah data training (True)\t:\t20000\n",
            "Jumlah data training (False)\t:\t20000\n",
            "Jumlah data test\t\t:\t10000\n"
          ],
          "name": "stdout"
        }
      ]
    },
    {
      "cell_type": "code",
      "metadata": {
        "trusted": true,
        "id": "ep9oGAWPnzvf",
        "colab_type": "code",
        "colab": {}
      },
      "source": [
        "prostitute_tweets = data_train_true['tweet']\n",
        "not_prostitute_tweets = data_train_false['tweet']\n",
        "just_tweets = data_test['tweet']"
      ],
      "execution_count": 0,
      "outputs": []
    },
    {
      "cell_type": "markdown",
      "metadata": {
        "id": "Omi3ZmD6nzvi",
        "colab_type": "text"
      },
      "source": [
        "Ambil data dari kolom tweet dari setiap file"
      ]
    },
    {
      "cell_type": "code",
      "metadata": {
        "trusted": true,
        "id": "a4LIhSMsnzvi",
        "colab_type": "code",
        "colab": {}
      },
      "source": [
        "def cleaning(text):\n",
        "\ttext = re.sub(r'<[^>]+>', '', text) #delete html tags\n",
        "\ttext = re.sub(r'\\S*twitter.com\\S*', '', text)   #delete twitter image\n",
        "\ttext = re.sub(r'https?://[A-Za-z0-9./]+','',text) #delete url\n",
        "\ttext = re.sub(r'@[A-Za-z0-9]+','',text) #delete user mention\n",
        "\ttext = re.sub(r'#[A-Za-z0-9]+','',text) #delete twitter hashtag\n",
        "\ttext = re.sub(r'(?:(?:\\d+,?)+(?:\\.?\\d+)?)','', text) #delete number\n",
        "\ttext = re.sub(r\"[^a-zA-Z]\", \" \", text) #only accept alphabet char\n",
        "\ttext = re.sub(r\"(\\w)(\\1{2,})\", r'\\1', text) #delete repeated char\n",
        "\ttext = re.sub(r\"\\b[a-zA-Z]\\b\", \"\", text) #remove single character\n",
        "\ttext = text.lower() #change to lowercase\n",
        "\treturn text"
      ],
      "execution_count": 0,
      "outputs": []
    },
    {
      "cell_type": "markdown",
      "metadata": {
        "id": "M1DWaenJnzvp",
        "colab_type": "text"
      },
      "source": [
        "Lakukan pembersihan teks dari noise seperti, menghapus html tags, menghapus url gambar dari twitter, menghapus url, menghapus user mention, menghapus hashtag, dan mengkonversi semua huruf menjadi lowercase"
      ]
    },
    {
      "cell_type": "code",
      "metadata": {
        "trusted": true,
        "id": "rbCaRUFunzvq",
        "colab_type": "code",
        "colab": {}
      },
      "source": [
        "def tokenize(text):\n",
        "\t#disini diisi dengan stop words\n",
        "\tignore_words = ['by', 'yang', 'ya', 'saya', 'dia', 'ia', 'ke', 'pun', 'rt']\n",
        "\twords = text.split();\n",
        "\twords = [w for w in words if w not in ignore_words]\n",
        "\treturn words"
      ],
      "execution_count": 0,
      "outputs": []
    },
    {
      "cell_type": "markdown",
      "metadata": {
        "id": "Bn54Bgfsnzvu",
        "colab_type": "text"
      },
      "source": [
        "Melakukan tokenisasi, yaitu memecah setiap kata dalam kalimat menjadi per kata dan dimasukkan ke dalam list"
      ]
    },
    {
      "cell_type": "code",
      "metadata": {
        "trusted": true,
        "id": "VCO6QvGJnzvu",
        "colab_type": "code",
        "colab": {}
      },
      "source": [
        "positive_tweet_tokens = []\n",
        "for i in prostitute_tweets:\n",
        "\tpositive_tweet_tokens.append(tokenize(cleaning(i)))"
      ],
      "execution_count": 0,
      "outputs": []
    },
    {
      "cell_type": "code",
      "metadata": {
        "trusted": true,
        "id": "v8q1UrIGnzvx",
        "colab_type": "code",
        "colab": {}
      },
      "source": [
        "negative_tweet_tokens = []\n",
        "for i in not_prostitute_tweets:\n",
        "\tnegative_tweet_tokens.append(tokenize(cleaning(i)))"
      ],
      "execution_count": 0,
      "outputs": []
    },
    {
      "cell_type": "markdown",
      "metadata": {
        "id": "QM8px4EEnzv0",
        "colab_type": "text"
      },
      "source": [
        "Buat daftar kata dari seluruh data training yang sudah melalui tahap pembersihan dan sudah dikonversi menjadi bentuk token"
      ]
    },
    {
      "cell_type": "code",
      "metadata": {
        "trusted": true,
        "id": "XKG2xPIbnzv0",
        "colab_type": "code",
        "colab": {}
      },
      "source": [
        "def get_all_words(cleaned_token_list):\n",
        "\tfor tokens in cleaned_token_list:\n",
        "\t\tfor token in tokens:\n",
        "\t\t\tyield token\n",
        "\n",
        "def get_tweets_for_model(cleaned_tokens_list):\n",
        "\tfor tweet_tokens in cleaned_tokens_list:\n",
        "\t\tyield dict([token, True] for token in tweet_tokens)"
      ],
      "execution_count": 0,
      "outputs": []
    },
    {
      "cell_type": "code",
      "metadata": {
        "trusted": true,
        "id": "X-S8krLQnzv3",
        "colab_type": "code",
        "colab": {}
      },
      "source": [
        "all_pos_words = get_all_words(positive_tweet_tokens)\n",
        "freq_dist_pos = FreqDist(all_pos_words)"
      ],
      "execution_count": 0,
      "outputs": []
    },
    {
      "cell_type": "markdown",
      "metadata": {
        "id": "cruX4p2Inzv5",
        "colab_type": "text"
      },
      "source": [
        "Buat daftar kata beserta frekuensi kemunculan kata pada daftar seluruh kata **(Bag of words)**"
      ]
    },
    {
      "cell_type": "code",
      "metadata": {
        "trusted": true,
        "id": "hfc4q5Qvnzv6",
        "colab_type": "code",
        "colab": {
          "base_uri": "https://localhost:8080/",
          "height": 54
        },
        "outputId": "f6245ca6-42d0-47a6-ca24-58d85a10093f"
      },
      "source": [
        "print(f\"Kata yang sering muncul: {freq_dist_pos.most_common(5000)}\")"
      ],
      "execution_count": 15,
      "outputs": [
        {
          "output_type": "stream",
          "text": [
            "Kata yang sering muncul: [('wa', 11387), ('open', 7716), ('dm', 6011), ('bo', 5391), ('ready', 5356), ('jogja', 4876), ('rr', 3333), ('avail', 3211), ('say', 3121), ('slot', 2941), ('yuk', 2931), ('cod', 2567), ('beb', 2524), ('dp', 2364), ('no', 2264), ('include', 2124), ('vcs', 2123), ('ini', 1876), ('info', 1874), ('minat', 1853), ('hotel', 1631), ('exclude', 1590), ('di', 1573), ('sayang', 1533), ('st', 1490), ('isi', 1468), ('area', 1459), ('inc', 1345), ('lt', 1344), ('malam', 1279), ('exc', 1278), ('yg', 1223), ('aja', 1210), ('langsung', 1200), ('masih', 1105), ('jam', 1064), ('expo', 1001), ('chat', 967), ('promo', 943), ('via', 906), ('bisa', 894), ('real', 878), ('kak', 859), ('serius', 835), ('khusus', 804), ('buat', 789), ('wajib', 783), ('cancel', 747), ('hari', 742), ('yaa', 736), ('mau', 707), ('bio', 678), ('or', 633), ('ga', 621), ('aku', 606), ('cocok', 594), ('main', 590), ('crot', 575), ('incld', 530), ('harga', 519), ('merapat', 515), ('lagi', 503), ('fast', 494), ('excl', 493), ('sama', 492), ('ada', 487), ('slotnya', 472), ('respon', 460), ('sini', 459), ('massage', 457), ('bebas', 450), ('nya', 444), ('cash', 443), ('morning', 437), ('free', 429), ('buruan', 421), ('cek', 419), ('openbojogja', 396), ('damai', 396), ('sex', 391), ('gfe', 371), ('pacar', 369), ('room', 363), ('yogyakarta', 361), ('dan', 358), ('nih', 350), ('panlok', 338), ('chatt', 338), ('bra', 325), ('bb', 322), ('privat', 322), ('enak', 321), ('tb', 319), ('rate', 316), ('new', 314), ('pijat', 308), ('ni', 303), ('juga', 298), ('udah', 298), ('kota', 298), ('wjb', 289), ('keep', 282), ('guys', 278), ('pagi', 278), ('angel', 276), ('bareng', 272), ('mantaps', 271), ('cpas', 270), ('noanal', 268), ('recomended', 260), ('availl', 245), ('menit', 244), ('baru', 242), ('syg', 241), ('umur', 239), ('sekarang', 238), ('cif', 236), ('manja', 235), ('untuk', 234), ('cim', 232), ('kasur', 229), ('pict', 229), ('siang', 229), ('akun', 225), ('santai', 220), ('base', 217), ('yukk', 216), ('morningsex', 213), ('mlm', 211), ('php', 205), ('now', 202), ('terbatas', 201), ('skrg', 200), ('terima', 198), ('chtt', 197), ('kuy', 197), ('blok', 197), ('kyk', 195), ('sudah', 194), ('comer', 194), ('newbie', 190), ('butuh', 189), ('pokokny', 185), ('mandi', 184), ('ditunggu', 183), ('singgah', 183), ('kk', 183), ('only', 181), ('tante', 180), ('booking', 177), ('msh', 177), ('panggilan', 174), ('full', 172), ('omdo', 169), ('htl', 169), ('atau', 168), ('yah', 167), ('skrng', 167), ('mas', 166), ('bayar', 165), ('sendiri', 164), ('basi', 158), ('good', 156), ('lg', 156), ('basa', 155), ('trusted', 155), ('slott', 154), ('fullservice', 148), ('kamar', 148), ('chek', 147), ('tarif', 144), ('enakin', 140), ('luar', 140), ('longtime', 140), ('foto', 138), ('shortime', 136), ('bebb', 134), ('in', 133), ('rasa', 128), ('bersih', 126), ('ve', 125), ('putih', 124), ('cus', 124), ('daerah', 124), ('kosong', 122), ('bu', 121), ('beda', 121), ('tempat', 118), ('bbw', 118), ('kucing', 118), ('minggu', 117), ('kepoin', 116), ('pengen', 115), ('cuss', 114), ('udh', 110), ('sore', 110), ('sebelum', 108), ('spesial', 108), ('jangan', 104), ('iya', 102), ('sampe', 101), ('stw', 100), ('jombor', 100), ('availya', 100), ('cewek', 99), ('besok', 99), ('cari', 99), ('kondom', 97), ('tya', 97), ('follow', 96), ('dijamin', 96), ('aj', 95), ('includ', 95), ('riming', 95), ('aman', 93), ('ku', 93), ('saja', 91), ('service', 90), ('keepslot', 90), ('toge', 90), ('mahasiswi', 88), ('jika', 88), ('gay', 87), ('serasa', 87), ('hijab', 86), ('dulu', 86), ('gk', 85), ('lokasi', 85), ('boking', 84), ('melayani', 84), ('berduaan', 84), ('dong', 83), ('privasi', 83), ('incloud', 82), ('fake', 82), ('puasin', 81), ('sampai', 81), ('siap', 80), ('suka', 80), ('dengan', 79), ('hanya', 78), ('tanpa', 78), ('gak', 77), ('spek', 77), ('yuni', 76), ('trusded', 75), ('inforr', 75), ('req', 75), ('nonhijab', 75), ('liburan', 74), ('jec', 74), ('yok', 74), ('kulit', 73), ('on', 73), ('today', 73), ('ayo', 73), ('tidak', 73), ('back', 73), ('yu', 73), ('and', 72), ('star', 72), ('puas', 69), ('uda', 69), ('mendesah', 69), ('verified', 67), ('mnit', 67), ('corona', 67), ('included', 66), ('bj', 64), ('dibio', 64), ('caps', 63), ('kurus', 63), ('ex', 62), ('lsg', 62), ('diranjang', 62), ('mumpung', 61), ('hati', 61), ('reservasi', 61), ('sesuai', 61), ('kita', 60), ('utara', 60), ('vivi', 60), ('susu', 59), ('bojogja', 59), ('anal', 58), ('bjhj', 58), ('night', 58), ('queen', 58), ('semarang', 57), ('nego', 57), ('nich', 57), ('sange', 57), ('kamu', 57), ('dah', 57), ('lanjut', 57), ('biar', 56), ('excld', 56), ('malem', 56), ('bc', 56), ('april', 55), ('bebz', 55), ('kost', 54), ('sorry', 54), ('syang', 54), ('welcame', 54), ('mantrijeron', 54), ('fullser', 53), ('paket', 52), ('sidoarjo', 52), ('teman', 52), ('lupa', 51), ('private', 51), ('maks', 51), ('opening', 51), ('jaksel', 50), ('rom', 50), ('modus', 50), ('tercepat', 50), ('rules', 50), ('sinta', 50), ('looking', 49), ('close', 49), ('xc', 49), ('realy', 49), ('acount', 49), ('ranjang', 49), ('ngewe', 48), ('mulai', 48), ('sensasi', 47), ('hj', 47), ('banyak', 47), ('kalo', 47), ('skitaran', 47), ('babarsari', 47), ('vania', 47), ('silahkan', 46), ('available', 46), ('jamin', 46), ('hehe', 46), ('cuman', 45), ('dari', 45), ('an', 45), ('tunggu', 45), ('semog', 45), ('bbs', 45), ('tgl', 45), ('karoke', 45), ('cewe', 44), ('stay', 44), ('lama', 44), ('dc', 43), ('cm', 43), ('nanti', 43), ('abang', 43), ('dr', 43), ('kiss', 43), ('some', 42), ('aturan', 42), ('opn', 42), ('penuhin', 42), ('tipu', 42), ('jm', 41), ('bebascrot', 41), ('coba', 41), ('maljum', 41), ('lovers', 40), ('sisa', 40), ('merapi', 40), ('happy', 40), ('bantu', 39), ('sygku', 39), ('hindari', 39), ('jadi', 39), ('ka', 39), ('incl', 39), ('koq', 38), ('rb', 38), ('kesepian', 38), ('body', 38), ('merbabu', 38), ('exclud', 38), ('bs', 38), ('jgn', 38), ('cuacanya', 38), ('buruang', 38), ('vc', 38), ('selalu', 38), ('meja', 38), ('jogjakarta', 37), ('th', 37), ('terus', 37), ('testi', 37), ('senin', 37), ('lewat', 37), ('halo', 37), ('muda', 37), ('jilbob', 36), ('makasih', 36), ('off', 36), ('vcsnya', 36), ('cuma', 36), ('buru', 35), ('dlu', 35), ('yakin', 35), ('sayangg', 35), ('lain', 34), ('punya', 34), ('block', 34), ('thn', 34), ('mana', 34), ('ayuk', 34), ('lho', 34), ('syaang', 34), ('kuyy', 33), ('mampir', 33), ('ah', 33), ('boleh', 33), ('baso', 33), ('valid', 32), ('sm', 32), ('selamat', 32), ('ditempat', 32), ('basah', 32), ('nagih', 32), ('feel', 32), ('kangen', 31), ('class', 31), ('buka', 31), ('yokk', 31), ('pasti', 31), ('inibeb', 31), ('kerumunan', 31), ('durasi', 30), ('maaf', 30), ('terakhir', 30), ('edisi', 30), ('bagi', 30), ('dilayani', 30), ('syahdu', 30), ('va', 30), ('orang', 30), ('tf', 30), ('kakak', 30), ('sayy', 30), ('toket', 30), ('jumat', 30), ('rule', 29), ('goyang', 29), ('fullface', 29), ('cr', 29), ('masuk', 29), ('puasa', 29), ('member', 29), ('crott', 29), ('cuzz', 29), ('inbox', 29), ('agni', 29), ('galau', 29), ('hilangin', 29), ('ambyar', 29), ('kalasan', 29), ('for', 28), ('kos', 28), ('kusus', 28), ('must', 28), ('nganuu', 28), ('blm', 28), ('seger', 28), ('seks', 28), ('siapa', 28), ('bulet', 28), ('transfer', 28), ('profil', 28), ('nyayuk', 28), ('yach', 28), ('whatsapp', 28), ('ayu', 28), ('maen', 27), ('diisi', 27), ('janda', 27), ('ibu', 27), ('basabasi', 27), ('malioboro', 27), ('bebs', 27), ('shinta', 27), ('jt', 27), ('pake', 26), ('temen', 26), ('magelang', 26), ('order', 26), ('sdh', 26), ('ok', 26), ('gendut', 26), ('amel', 26), ('dunia', 26), ('cew', 26), ('sygg', 26), ('msg', 25), ('openvcs', 25), ('pas', 25), ('ribet', 25), ('asli', 25), ('tomboy', 25), ('seriuss', 25), ('sexx', 25), ('lgi', 24), ('adek', 24), ('mudah', 24), ('mudahan', 24), ('sma', 24), ('homo', 24), ('klo', 24), ('soalnya', 24), ('klaten', 24), ('shay', 24), ('malu', 24), ('klik', 23), ('tamu', 23), ('years', 23), ('old', 23), ('jarang', 23), ('fr', 23), ('ayok', 23), ('biaya', 23), ('penipu', 23), ('ro', 23), ('cinta', 23), ('gea', 23), ('belia', 23), ('yogya', 23), ('penggemar', 23), ('semogh', 23), ('whitee', 23), ('br', 23), ('jilboobs', 23), ('the', 23), ('includee', 23), ('bertanya', 23), ('stand', 23), ('nett', 23), ('mint', 23), ('tapi', 22), ('kuliah', 22), ('tp', 22), ('kuat', 22), ('servise', 22), ('woman', 22), ('to', 22), ('bsok', 22), ('pengisian', 22), ('selama', 21), ('nologaten', 21), ('berdua', 21), ('ajah', 21), ('hot', 21), ('nihh', 21), ('malming', 21), ('srius', 21), ('japri', 21), ('lainnya', 21), ('meysa', 21), ('test', 21), ('crew', 21), ('yahh', 20), ('gejayan', 20), ('temenin', 20), ('payment', 20), ('hallo', 20), ('partner', 20), ('tarifnya', 20), ('loh', 20), ('chinese', 20), ('jogjaa', 20), ('kok', 20), ('echa', 20), ('sementara', 20), ('lgsung', 20), ('harus', 20), ('kemaren', 20), ('use', 19), ('gercepp', 19), ('beib', 19), ('krn', 19), ('thankyou', 19), ('hy', 19), ('kembali', 19), ('kencan', 19), ('akuh', 19), ('mbbeb', 19), ('slotku', 19), ('seksi', 19), ('nyaa', 19), ('dikamar', 19), ('sleman', 19), ('tanya', 19), ('yak', 19), ('cowok', 19), ('kluar', 19), ('nana', 19), ('kuning', 18), ('langsat', 18), ('ml', 18), ('dlm', 18), ('janjian', 18), ('high', 18), ('tetap', 18), ('brng', 18), ('rrnya', 18), ('apa', 18), ('uang', 18), ('kaka', 18), ('max', 18), ('gede', 18), ('cobain', 18), ('ingat', 18), ('banget', 18), ('yo', 18), ('bookig', 18), ('fwb', 18), ('kena', 18), ('thanks', 18), ('sepi', 18), ('rimming', 18), ('kalau', 18), ('ambil', 18), ('availjogja', 18), ('aq', 17), ('fullservis', 17), ('temenku', 17), ('mu', 17), ('more', 17), ('berbayar', 17), ('hujan', 17), ('openbo', 17), ('croot', 17), ('slod', 17), ('kehangatan', 17), ('bulan', 17), ('gaes', 17), ('sexnya', 17), ('bukan', 17), ('hello', 17), ('utk', 17), ('premium', 17), ('ikuti', 17), ('belum', 17), ('codnodp', 17), ('xi', 17), ('busui', 17), ('surabaya', 17), ('skin', 16), ('yuuk', 16), ('wanita', 16), ('fix', 16), ('deh', 16), ('kamis', 16), ('usah', 16), ('ak', 16), ('jg', 16), ('penting', 16), ('akan', 16), ('pulsa', 16), ('ladies', 16), ('istri', 16), ('ramein', 16), ('poto', 16), ('day', 16), ('shayy', 16), ('gaas', 16), ('agency', 16), ('bonus', 15), ('ta', 15), ('jln', 15), ('monggo', 15), ('pria', 15), ('kasih', 15), ('beby', 15), ('curhat', 15), ('toogge', 15), ('lebih', 15), ('request', 15), ('oke', 15), ('hijabers', 15), ('gw', 15), ('hijeb', 15), ('jadwal', 15), ('jelas', 15), ('utamakan', 15), ('sejam', 15), ('op', 15), ('hayuk', 15), ('solusi', 15), ('meysha', 15), ('age', 15), ('nenen', 15), ('dijogja', 15), ('muka', 15), ('sty', 15), ('slottku', 15), ('lgsg', 14), ('ngobrol', 14), ('gigolo', 14), ('bulanan', 14), ('bantuin', 14), ('ingin', 14), ('tau', 14), ('habis', 14), ('pg', 14), ('fitri', 14), ('link', 14), ('badan', 14), ('servis', 14), ('dipuasin', 14), ('pertama', 14), ('bnyak', 14), ('balas', 14), ('dri', 14), ('smpe', 14), ('time', 14), ('rek', 14), ('at', 14), ('prosedur', 14), ('gercep', 14), ('semua', 14), ('satu', 14), ('weekend', 14), ('lockdown', 14), ('desa', 14), ('slow', 14), ('white', 14), ('tanggl', 14), ('ngentotni', 14), ('pesonna', 14), ('atur', 13), ('manjain', 13), ('kg', 13), ('datang', 13), ('manis', 13), ('smp', 13), ('share', 13), ('bet', 13), ('ny', 13), ('itu', 13), ('capek', 13), ('bertatto', 13), ('singel', 13), ('morningsexy', 13), ('kapan', 13), ('join', 13), ('last', 13), ('miring', 13), ('komen', 13), ('ad', 13), ('keepslotnya', 13), ('niat', 13), ('ngopi', 13), ('nobasabasi', 13), ('temani', 13), ('teakhir', 13), ('spk', 13), ('lendir', 13), ('start', 13), ('ikutin', 13), ('dateng', 13), ('nafsu', 13), ('biasa', 13), ('sayangku', 13), ('semi', 13), ('sistem', 13), ('kali', 13), ('belai', 13), ('karena', 13), ('dadakan', 13), ('diana', 13), ('pcr', 13), ('mulut', 13), ('hjbj', 13), ('novi', 13), ('disini', 12), ('yuks', 12), ('video', 12), ('dpt', 12), ('fhoto', 12), ('joga', 12), ('gabutz', 12), ('eike', 12), ('mahasiswa', 12), ('enaknya', 12), ('setelah', 12), ('terimakasih', 12), ('trakhir', 12), ('naked', 12), ('line', 12), ('waktu', 12), ('pada', 12), ('mingguan', 12), ('rossa', 12), ('bikin', 12), ('montok', 12), ('bobo', 12), ('minggir', 12), ('bebku', 12), ('cuddlecare', 12), ('ons', 12), ('special', 12), ('tinggi', 12), ('adalah', 12), ('otw', 12), ('thx', 12), ('sempat', 12), ('match', 12), ('tutup', 12), ('sticker', 12), ('ntar', 11), ('ayam', 11), ('tobrut', 11), ('pijit', 11), ('pribadi', 11), ('semoga', 11), ('sblm', 11), ('tidur', 11), ('melia', 11), ('mari', 11), ('sedang', 11), ('dicari', 11), ('cs', 11), ('auto', 11), ('olin', 11), ('wekkend', 11), ('lah', 11), ('bookingan', 11), ('kepuasan', 11), ('hs', 11), ('murah', 11), ('pngen', 11), ('account', 11), ('sing', 11), ('jgja', 11), ('lamgsung', 11), ('gratis', 11), ('sari', 11), ('check', 11), ('vio', 11), ('amaris', 11), ('milik', 11), ('mandikucing', 11), ('colme', 11), ('jilme', 11), ('bie', 10), ('cuz', 10), ('terapis', 10), ('goyangan', 10), ('izin', 10), ('emang', 10), ('trima', 10), ('terjamin', 10), ('next', 10), ('trus', 10), ('benz', 10), ('purosani', 10), ('ceria', 10), ('pgn', 10), ('money', 10), ('with', 10), ('condongcatur', 10), ('outcall', 10), ('respond', 10), ('wjib', 10), ('me', 10), ('juta', 10), ('honey', 10), ('masker', 10), ('jum', 10), ('bsk', 10), ('ditemenin', 10), ('bgt', 10), ('bsa', 10), ('nek', 10), ('detected', 10), ('sesaat', 10), ('hubungi', 10), ('mantab', 10), ('sunday', 10), ('dek', 10), ('janji', 10), ('dibaca', 10), ('gaskeun', 10), ('pecinta', 10), ('sprti', 10), ('utra', 10), ('noribet', 10), ('kan', 9), ('tmu', 9), ('up', 9), ('anak', 9), ('nggak', 9), ('tonight', 9), ('live', 9), ('tak', 9), ('kebagian', 9), ('skrang', 9), ('id', 9), ('face', 9), ('sekali', 9), ('keluar', 9), ('org', 9), ('eror', 9), ('kalian', 9), ('tahun', 9), ('call', 9), ('profill', 9), ('vella', 9), ('solo', 9), ('cuddle', 9), ('ramah', 9), ('ajaa', 9), ('pic', 9), ('dingin', 9), ('liar', 9), ('yng', 9), ('nawar', 9), ('kere', 9), ('sambil', 9), ('msih', 9), ('wae', 9), ('semalam', 9), ('aliya', 9), ('ulang', 9), ('ma', 9), ('kunti', 9), ('kakk', 9), ('cuaca', 9), ('nikmati', 9), ('berat', 9), ('ato', 9), ('sehat', 9), ('sante', 9), ('kampus', 9), ('bispak', 9), ('mlam', 9), ('satnite', 9), ('jakal', 9), ('jakarta', 9), ('begadang', 9), ('blokir', 8), ('gas', 8), ('girl', 8), ('tinggal', 8), ('seturan', 8), ('sering', 8), ('krumunan', 8), ('dikamarku', 8), ('kesini', 8), ('semangat', 8), ('om', 8), ('nama', 8), ('gini', 8), ('sahur', 8), ('zea', 8), ('lohh', 8), ('mohon', 8), ('fani', 8), ('kaliurang', 8), ('tahan', 8), ('nunggu', 8), ('kecil', 8), ('syng', 8), ('hidup', 8), ('tersenyum', 8), ('walau', 8), ('pijatnya', 8), ('incloude', 8), ('cepat', 8), ('belah', 8), ('lemas', 8), ('hi', 8), ('dapat', 8), ('yess', 8), ('see', 8), ('net', 8), ('hri', 8), ('mulu', 8), ('bodoh', 8), ('bkn', 8), ('tdk', 8), ('soree', 8), ('home', 8), ('pernah', 8), ('ig', 8), ('satnight', 8), ('little', 8), ('kelonan', 8), ('seperti', 8), ('lngsung', 8), ('terimakasi', 8), ('topeng', 8), ('minta', 8), ('nuub', 8), ('grup', 8), ('poll', 8), ('mendahului', 8), ('bye', 8), ('penghibur', 8), ('beeb', 8), ('pacaran', 8), ('yahwa', 8), ('ap', 8), ('inclaude', 8), ('tadii', 8), ('jomblo', 8), ('tua', 8), ('mnggu', 8), ('bionya', 8), ('redy', 7), ('nikmat', 7), ('nyaman', 7), ('km', 7), ('plus', 7), ('ngga', 7), ('mlipir', 7), ('nusantara', 7), ('sexs', 7), ('location', 7), ('cabe', 7), ('seyeng', 7), ('jga', 7), ('sgini', 7), ('para', 7), ('fresh', 7), ('oriented', 7), ('bobok', 7), ('vidio', 7), ('kaya', 7), ('daripada', 7), ('gabut', 7), ('adain', 7), ('fantasi', 7), ('hangus', 7), ('kebanyakan', 7), ('jos', 7), ('abg', 7), ('lepas', 7), ('diprofill', 7), ('bang', 7), ('lom', 7), ('nyuseu', 7), ('hai', 7), ('kenal', 7), ('ramadhan', 7), ('asal', 7), ('gass', 7), ('doang', 7), ('bersedia', 7), ('mnt', 7), ('sempit', 7), ('silakan', 7), ('makasi', 7), ('ttp', 7), ('jaga', 7), ('mandala', 7), ('sehari', 7), ('ps', 7), ('da', 7), ('sambung', 7), ('makin', 7), ('kasay', 7), ('sabtu', 7), ('terahir', 7), ('opnbo', 7), ('kepingin', 7), ('anget', 7), ('wisata', 7), ('bosan', 7), ('kami', 7), ('senyum', 7), ('sebut', 7), ('sayng', 7), ('sembuh', 7), ('su', 7), ('bisyar', 7), ('gantikan', 7), ('aira', 7), ('kembalikan', 7), ('bbas', 7), ('bogor', 7), ('https', 7), ('kimcil', 7), ('besuk', 7), ('libur', 7), ('sangek', 7), ('exlud', 7), ('wajibdp', 7), ('hack', 7), ('karna', 6), ('rumah', 6), ('kemarin', 6), ('tolong', 6), ('ganti', 6), ('lala', 6), ('gedhe', 6), ('retweet', 6), ('exxlude', 6), ('ajha', 6), ('td', 6), ('exlucde', 6), ('ecx', 6), ('sekitarnya', 6), ('squirt', 6), ('ena', 6), ('tari', 6), ('min', 6), ('rejekinya', 6), ('kelon', 6), ('covid', 6), ('anda', 6), ('agar', 6), ('beberapa', 6), ('ayook', 6), ('thank', 6), ('you', 6), ('cantik', 6), ('ojo', 6), ('mending', 6), ('hardcore', 6), ('tadi', 6), ('duit', 6), ('nipu', 6), ('nyari', 6), ('phone', 6), ('kemana', 6), ('mencari', 6), ('ayukk', 6), ('sst', 6), ('iki', 6), ('della', 6), ('aktif', 6), ('warung', 6), ('cimcif', 6), ('respons', 6), ('dalam', 6), ('tranfer', 6), ('terkini', 6), ('jl', 6), ('bkin', 6), ('read', 6), ('tarifny', 6), ('gpp', 6), ('yuhuu', 6), ('makan', 6), ('mey', 6), ('kayak', 6), ('bovcs', 6), ('tanggal', 6), ('melvin', 6), ('text', 6), ('desahan', 6), ('sweet', 6), ('tetep', 6), ('tugu', 6), ('cma', 6), ('rame', 6), ('bercinta', 6), ('vcsny', 6), ('sdah', 6), ('ribu', 6), ('sakit', 6), ('dibawah', 6), ('pasutri', 6), ('kenalan', 6), ('paling', 6), ('berlalu', 6), ('skr', 6), ('hei', 6), ('aa', 6), ('minimal', 6), ('ja', 6), ('diphp', 6), ('syangg', 6), ('memuaskan', 6), ('vhivhiie', 6), ('cahs', 6), ('semangatku', 6), ('pay', 6), ('yani', 6), ('my', 5), ('mulus', 5), ('maw', 5), ('burung', 5), ('skip', 5), ('matikan', 5), ('notifnya', 5), ('yook', 5), ('kee', 5), ('tipis', 5), ('desahin', 5), ('pms', 5), ('tersedia', 5), ('jalan', 5), ('icha', 5), ('mksh', 5), ('menunggu', 5), ('eksis', 5), ('dtg', 5), ('capcuss', 5), ('debu', 5), ('thankyouu', 5), ('ffm', 5), ('percaya', 5), ('pijet', 5), ('tambah', 5), ('diajak', 5), ('bacot', 5), ('berakhir', 5), ('bahagia', 5), ('wik', 5), ('mata', 5), ('lur', 5), ('akhir', 5), ('wangi', 5), ('ati', 5), ('mlem', 5), ('dada', 5), ('laki', 5), ('butiran', 5), ('rahasia', 5), ('mr', 5), ('httplendirjogja', 5), ('long', 5), ('suhu', 5), ('hnya', 5), ('mbak', 5), ('atas', 5), ('uhahuhahuhah', 5), ('sensi', 5), ('ndut', 5), ('kira', 5), ('dl', 5), ('segera', 5), ('iseng', 5), ('sekalian', 5), ('prepare', 5), ('pesen', 5), ('si', 5), ('vitha', 5), ('menarik', 5), ('hlo', 5), ('hr', 5), ('kelas', 5), ('nodp', 5), ('done', 5), ('apalagi', 5), ('fto', 5), ('dgn', 5), ('wekeend', 5), ('makasar', 5), ('coklat', 5), ('breng', 5), ('rasain', 5), ('short', 5), ('aay', 5), ('temeni', 5), ('duren', 5), ('ooen', 5), ('mudik', 5), ('bina', 5), ('brondong', 5), ('sandiwara', 5), ('sndiri', 5), ('griya', 5), ('ksg', 5), ('yola', 5), ('top', 5), ('photo', 5), ('slotya', 5), ('digoyang', 5), ('masing', 5), ('terbaik', 5), ('gaya', 5), ('lgs', 5), ('kirim', 5), ('setulus', 5), ('pm', 5), ('mantan', 5), ('kekasih', 5), ('mantanmu', 5), ('semok', 5), ('ush', 5), ('ngotak', 5), ('susuku', 5), ('jauh', 5), ('smpai', 5), ('privacy', 5), ('gadiez', 5), ('alya', 5), ('kelamaan', 5), ('sukses', 5), ('terlambat', 5), ('konsultasi', 5), ('seluas', 5), ('samudera', 5), ('wani', 5), ('increal', 5), ('dijog', 5), ('style', 4), ('slim', 4), ('ajh', 4), ('tmn', 4), ('adem', 4), ('hey', 4), ('bakal', 4), ('ragu', 4), ('baca', 4), ('kl', 4), ('djmn', 4), ('yuh', 4), ('soal', 4), ('disediakan', 4), ('kerja', 4), ('testimoni', 4), ('nyesel', 4), ('menjelang', 4), ('tenang', 4), ('gitu', 4), ('dtng', 4), ('cabean', 4), ('abis', 4), ('tl', 4), ('recommended', 4), ('berhubung', 4), ('jasa', 4), ('tubuh', 4), ('agendakan', 4), ('akoh', 4), ('tubuhku', 4), ('caca', 4), ('otot', 4), ('pulang', 4), ('mama', 4), ('selimut', 4), ('tetangga', 4), ('menanti', 4), ('rapuh', 4), ('alin', 4), ('readyy', 4), ('wajah', 4), ('durian', 4), ('sih', 4), ('sialahakan', 4), ('liat', 4), ('ki', 4), ('gampang', 4), ('nyoba', 4), ('mo', 4), ('feby', 4), ('angetin', 4), ('byr', 4), ('wats', 4), ('ama', 4), ('tdur', 4), ('clossingan', 4), ('awal', 4), ('rapet', 4), ('fullservs', 4), ('memek', 4), ('balik', 4), ('lo', 4), ('bukti', 4), ('samperin', 4), ('tes', 4), ('semiringnya', 4), ('seliarnya', 4), ('sekuatnya', 4), ('ndusel', 4), ('wkwk', 4), ('kocokin', 4), ('eh', 4), ('kmren', 4), ('ay', 4), ('sok', 4), ('kek', 4), ('realpromot', 4), ('sloot', 4), ('awas', 4), ('nnti', 4), ('kesehatan', 4), ('stop', 4), ('rabu', 4), ('dalem', 4), ('gihh', 4), ('bercumbu', 4), ('slowrespon', 4), ('pie', 4), ('tmnku', 4), ('pilih', 4), ('closed', 4), ('bandung', 4), ('nakal', 4), ('dogi', 4), ('shoot', 4), ('dina', 4), ('duluan', 4), ('skarang', 4), ('dom', 4), ('ringroad', 4), ('tetek', 4), ('sepii', 4), ('tegang', 4), ('madiun', 4), ('lisa', 4), ('brandallucu', 4), ('cie', 4), ('bawah', 4), ('therapi', 4), ('sygkuh', 4), ('nonik', 4), ('bumi', 4), ('emas', 4), ('kepoinyuk', 4), ('squirting', 4), ('lokdon', 4), ('platinum', 4), ('horison', 4), ('keple', 4), ('wp', 4), ('tiba', 4), ('tweet', 4), ('duitt', 4), ('gabung', 4), ('hyper', 4), ('ponsel', 4), ('stelah', 4), ('colorna', 4), ('destinasi', 4), ('ngentot', 4), ('angle', 4), ('agak', 4), ('girls', 4), ('melyani', 4), ('salam', 4), ('profile', 4), ('mantap', 4), ('luu', 4), ('sruh', 4), ('pura', 4), ('jgan', 4), ('lngsng', 4), ('helma', 4), ('just', 4), ('hana', 4), ('keisi', 4), ('expobogor', 4), ('availbekasi', 4), ('morn', 4), ('ngantuk', 4), ('meminta', 4), ('nava', 4), ('subuh', 4), ('langsng', 4), ('dongyahh', 4), ('diluar', 4), ('kainnya', 4), ('stok', 4), ('maenin', 4), ('piro', 4), ('malamminggu', 4), ('sangekk', 4), ('maret', 4), ('cips', 4), ('persiapan', 4), ('jugaa', 4), ('bocaah', 4), ('jumaat', 4), ('sedot', 4), ('maksih', 4), ('sllu', 4), ('ujan', 4), ('lgsng', 4), ('hhe', 4), ('lia', 4), ('diburu', 4), ('togbul', 3), ('pasangan', 3), ('mba', 3), ('profesional', 3), ('tmpt', 3), ('ac', 3), ('depan', 3), ('dll', 3), ('kesayangan', 3), ('amsyong', 3), ('comot', 3), ('pagii', 3), ('alo', 3), ('kurang', 3), ('buruanmas', 3), ('uhah', 3), ('rezeki', 3), ('midnight', 3), ('es', 3), ('kiko', 3), ('pelukan', 3), ('wilayah', 3), ('ampe', 3), ('kedatangannya', 3), ('bukain', 3), ('dimana', 3), ('waktunya', 3), ('cap', 3), ('byar', 3), ('dapet', 3), ('obat', 3), ('import', 3), ('diri', 3), ('baby', 3), ('rawit', 3), ('masa', 3), ('lalu', 3), ('bukber', 3), ('percoyo', 3), ('tertera', 3), ('akunku', 3), ('tersuspen', 3), ('konfirmasi', 3), ('dn', 3), ('uh', 3), ('sx', 3), ('palsu', 3), ('postingannya', 3), ('tadah', 3), ('dapatkan', 3), ('bnyk', 3), ('nanya', 3), ('aiis', 3), ('brani', 3), ('diskon', 3), ('mungkin', 3), ('goreng', 3), ('fullbody', 3), ('bersama', 3), ('akhirnya', 3), ('ngerasaiin', 3), ('all', 3), ('need', 3), ('sendirian', 3), ('dmwa', 3), ('of', 3), ('barang', 3), ('jadul', 3), ('sayaa', 3), ('dikoss', 3), ('ttep', 3), ('gigit', 3), ('ujungnya', 3), ('selow', 3), ('guyss', 3), ('ndak', 3), ('ketipu', 3), ('males', 3), ('panjang', 3), ('saatnya', 3), ('elsa', 3), ('pesan', 3), ('gatau', 3), ('terbats', 3), ('omong', 3), ('taman', 3), ('siswa', 3), ('nerima', 3), ('mikir', 3), ('lepasin', 3), ('kasi', 3), ('icloud', 3), ('putri', 3), ('ksini', 3), ('sbelum', 3), ('exclusive', 3), ('mmpung', 3), ('hak', 3), ('aya', 3), ('hariini', 3), ('bm', 3), ('do', 3), ('mpe', 3), ('dibikin', 3), ('mbok', 3), ('wes', 3), ('bebwajah', 3), ('bentuk', 3), ('promote', 3), ('aw', 3), ('pastikan', 3), ('seharian', 3), ('karo', 3), ('slalu', 3), ('koe', 3), ('hay', 3), ('minum', 3), ('vitamin', 3), ('krida', 3), ('menjauh', 3), ('peluk', 3), ('gassyuk', 3), ('ber', 3), ('la', 3), ('binor', 3), ('malan', 3), ('clear', 3), ('wot', 3), ('menerima', 3), ('dranjang', 3), ('betah', 3), ('dino', 3), ('ono', 3), ('ngejak', 3), ('dimanjain', 3), ('jd', 3), ('gratisan', 3), ('yuu', 3), ('layani', 3), ('homestay', 3), ('ekslusif', 3), ('apartemen', 3), ('nonic', 3), ('nemenin', 3), ('malmingan', 3), ('imclude', 3), ('we', 3), ('meneh', 3), ('dibantu', 3), ('bojogjaa', 3), ('lagii', 3), ('salwa', 3), ('tayang', 3), ('dewi', 3), ('mash', 3), ('dikos', 3), ('senam', 3), ('jepit', 3), ('tunjukan', 3), ('jumatan', 3), ('go', 3), ('city', 3), ('prawirotaman', 3), ('hangatin', 3), ('syarat', 3), ('they', 3), ('extend', 3), ('bersamamu', 3), ('mahmud', 3), ('fika', 3), ('bania', 3), ('fullservise', 3), ('pantau', 3), ('online', 3), ('cakep', 3), ('normal', 3), ('klu', 3), ('cindy', 3), ('masi', 3), ('mw', 3), ('asu', 3), ('lanang', 3), ('gelot', 3), ('bajingan', 3), ('wedok', 3), ('siangan', 3), ('ralat', 3), ('pelayanan', 3), ('gue', 3), ('niih', 3), ('puass', 3), ('ketemu', 3), ('serious', 3), ('erupsi', 3), ('out', 3), ('utamain', 3), ('trbatas', 3), ('malang', 3), ('sana', 3), ('ketagihan', 3), ('nina', 3), ('marilah', 3), ('kemari', 3), ('kawan', 3), ('lemesin', 3), ('sorean', 3), ('ikutan', 3), ('dua', 3), ('tentunya', 3), ('rindu', 3), ('phia', 3), ('bebh', 3), ('maam', 3), ('tampa', 3), ('gula', 3), ('ngadem', 3), ('mikirin', 3), ('morningsexnya', 3), ('okk', 3), ('yaah', 3), ('kurespon', 3), ('lh', 3), ('berkeringat', 3), ('isap', 3), ('pda', 3), ('ddk', 3), ('message', 3), ('tanyak', 3), ('adminsecret', 3), ('tok', 3), ('panas', 3), ('newbi', 3), ('bingung', 3), ('lbh', 3), ('sayg', 3), ('synk', 3), ('sunah', 3), ('rasul', 3), ('bismillah', 3), ('gays', 3), ('wajip', 3), ('ganteng', 3), ('maf', 3), ('sekrng', 3), ('brg', 2), ('mantep', 2), ('macam', 2), ('gerah', 2), ('spekbbra', 2), ('maaciw', 2), ('bekasi', 2), ('lock', 2), ('berbukalah', 2), ('dngan', 2), ('sperti', 2), ('bertarif', 2), ('dpnya', 2), ('perawan', 2), ('yes', 2), ('nia', 2), ('ngapain', 2), ('alhamdulilah', 2), ('ko', 2), ('kosan', 2), ('bayaran', 2), ('lirik', 2), ('trf', 2), ('hangat', 2), ('sj', 2), ('senang', 2), ('dkt', 2), ('tagihan', 2), ('lapangkan', 2), ('uripsumoharjo', 2), ('moheom', 2), ('cencel', 2), ('tiara', 2), ('rip', 2), ('panen', 2), ('thr', 2), ('twitter', 2), ('semuanya', 2), ('tu', 2), ('aduh', 2), ('olahraga', 2), ('se', 2), ('procomil', 2), ('spray', 2), ('terkenal', 2), ('khasiat', 2), ('berhubungan', 2), ('semprot', 2), ('reaksi', 2), ('merenung', 2), ('nasip', 2), ('brsama', 2), ('riri', 2), ('kanesya', 2), ('yati', 2), ('leny', 2), ('mainan', 2), ('alhamdulillah', 2), ('merasa', 2), ('segar', 2), ('papa', 2), ('ksih', 2), ('simpel', 2), ('frnya', 2), ('super', 2), ('angkasa', 2), ('promonya', 2), ('tersisa', 2), ('gx', 2), ('geser', 2), ('mei', 2), ('indah', 2), ('malah', 2), ('blg', 2), ('post', 2), ('crotin', 2), ('nomor', 2), ('tergiur', 2), ('gua', 2), ('cht', 2), ('binggung', 2), ('kesenangan', 2), ('girlonly', 2), ('dab', 2), ('neh', 2), ('client', 2), ('gajelas', 2), ('bdg', 2), ('horny', 2), ('babe', 2), ('haturnuwun', 2), ('msuk', 2), ('sensual', 2), ('gopay', 2), ('bojo', 2), ('whatshap', 2), ('mahal', 2), ('resmi', 2), ('part', 2), ('pindah', 2), ('dusta', 2), ('po', 2), ('bni', 2), ('kuliner', 2), ('dh', 2), ('sabar', 2), ('ngabuburit', 2), ('permanent', 2), ('berfantasi', 2), ('jilbab', 2), ('bosen', 2), ('sepuasnya', 2), ('selera', 2), ('sunnah', 2), ('seneng', 2), ('hayuu', 2), ('rechat', 2), ('meguwo', 2), ('perkota', 2), ('mkasi', 2), ('dikost', 2), ('rulee', 2), ('kumntil', 2), ('gegara', 2), ('nganggur', 2), ('beneran', 2), ('dirumah', 2), ('getar', 2), ('silikon', 2), ('alat', 2), ('katanya', 2), ('kmrn', 2), ('ilang', 2), ('maluv', 2), ('gada', 2), ('sitik', 2), ('nb', 2), ('terverifikasi', 2), ('riel', 2), ('menggoda', 2), ('menggigit', 2), ('massnyaa', 2), ('tengkiu', 2), ('angin', 2), ('jogjacod', 2), ('mungil', 2), ('tuh', 2), ('tiket', 2), ('gedeg', 2), ('mangan', 2), ('kui', 2), ('berani', 2), ('ora', 2), ('lihat', 2), ('list', 2), ('kecuali', 2), ('terpercaya', 2), ('readypijat', 2), ('karantina', 2), ('terbit', 2), ('jngan', 2), ('thangkyu', 2), ('kang', 2), ('zulia', 2), ('arrin', 2), ('apapun', 2), ('wfh', 2), ('ntah', 2), ('neng', 2), ('skidipapap', 2), ('nikmatnya', 2), ('yoh', 2), ('without', 2), ('lot', 2), ('hobi', 2), ('kepo', 2), ('rasane', 2), ('koyo', 2), ('iso', 2), ('ngene', 2), ('palagan', 2), ('mornijgsexy', 2), ('videocall', 2), ('bngun', 2), ('pendatang', 2), ('maksimal', 2), ('yuck', 2), ('besokk', 2), ('okta', 2), ('berry', 2), ('daging', 2), ('dimulut', 2), ('lhoo', 2), ('musim', 2), ('tarip', 2), ('limited', 2), ('sexy', 2), ('yaw', 2), ('suntuk', 2), ('crotdalam', 2), ('wikwik', 2), ('nyusu', 2), ('lyya', 2), ('prifavasi', 2), ('sangat', 2), ('btw', 2), ('mksih', 2), ('malemm', 2), ('kedinginan', 2), ('mesti', 2), ('tnya', 2), ('lengkap', 2), ('teliti', 2), ('pengertiannya', 2), ('keduluan', 2), ('tolak', 2), ('dtnggu', 2), ('report', 2), ('dihangatin', 2), ('nh', 2), ('openn', 2), ('harini', 2), ('pesona', 2), ('sexxmu', 2), ('rany', 2), ('vote', 2), ('kimplah', 2), ('selatan', 2), ('untk', 2), ('nomer', 2), ('bndun', 2), ('keringatan', 2), ('yha', 2), ('exposed', 2), ('aayang', 2), ('berlaku', 2), ('guarantee', 2), ('kesempatan', 2), ('gaess', 2), ('our', 2), ('ciri', 2), ('it', 2), ('come', 2), ('lelah', 2), ('haii', 2), ('berenang', 2), ('iphone', 2), ('goo', 2), ('masihh', 2), ('ditempatt', 2), ('bertahan', 2), ('saling', 2), ('availbooking', 2), ('profillku', 2), ('hayukk', 2), ('niki', 2), ('rempong', 2), ('bispakdiy', 2), ('penak', 2), ('bangun', 2), ('istimewa', 2), ('nnty', 2), ('mendukung', 2), ('modal', 2), ('game', 2), ('qqpokerdomino', 2), ('jagorawi', 2), ('kartu', 2), ('setiap', 2), ('cwek', 2), ('smua', 2), ('cwok', 2), ('hampir', 2), ('bbrapa', 2), ('menikmati', 2), ('horaios', 2), ('indonesia', 2), ('att', 2), ('bugil', 2), ('excludee', 2), ('tpi', 2), ('fulservis', 2), ('eady', 2), ('haus', 2), ('capz', 2), ('iri', 2), ('mental', 2), ('rasah', 2), ('apos', 2), ('mentalmu', 2), ('bosok', 2), ('abrakan', 2), ('ngapusi', 2), ('dadi', 2), ('schedule', 2), ('akses', 2), ('vvip', 2), ('tiap', 2), ('bosku', 2), ('sang', 2), ('selesai', 2), ('mens', 2), ('percepat', 2), ('bln', 2), ('lusy', 2), ('vitalitas', 2), ('incall', 2), ('mbk', 2), ('gadis', 2), ('lma', 2), ('dilla', 2), ('apelin', 2), ('pohon', 2), ('bambu', 2), ('pemula', 2), ('dmnya', 2), ('mutualan', 2), ('hany', 2), ('dara', 2), ('krishna', 2), ('ngeri', 2), ('keras', 2), ('kalinya', 2), ('amat', 2), ('kau', 2), ('nemu', 2), ('goodlooking', 2), ('perdana', 2), ('syadu', 2), ('mendayu', 2), ('beli', 2), ('reall', 2), ('cerita', 2), ('kasian', 2), ('pdhalblokir', 2), ('turuti', 2), ('iming', 2), ('mami', 2), ('ricek', 2), ('comotan', 2), ('fuck', 2), ('mandiin', 2), ('notipu', 2), ('gais', 2), ('jagan', 2), ('gergaji', 2), ('jng', 2), ('hti', 2), ('ekslusive', 2), ('laen', 2), ('qu', 2), ('dihari', 2), ('masii', 2), ('lekas', 2), ('hani', 2), ('sweat', 2), ('caranya', 2), ('iklannya', 2), ('grand', 2), ('pramuka', 2), ('budayakan', 2), ('perlu', 2), ('tetekku', 2), ('posting', 2), ('points', 2), ('terjaga', 2), ('biarkan', 2), ('merusak', 2), ('gairah', 2), ('dinda', 2), ('kata', 2), ('sak', 2), ('keepboking', 2), ('mood', 2), ('sekedar', 2), ('bucin', 2), ('mereka', 2), ('berkomplotan', 2), ('menipu', 2), ('kejadian', 2), ('terulang', 2), ('promotenya', 2), ('history', 2), ('jadwalkan', 2), ('yuj', 2), ('isya', 2), ('lali', 2), ('ajak', 2), ('kerik', 2), ('specia', 2), ('ngeluh', 2), ('mornsex', 2), ('tt', 2), ('sinii', 2), ('deket', 2), ('pol', 2), ('abal', 2), ('asi', 2), ('maem', 2), ('nieh', 2), ('tika', 2), ('jilmek', 2), ('inn', 2), ('bumil', 2), ('bibir', 2), ('sensor', 2), ('langsug', 2), ('bbrpa', 2), ('kdpn', 2), ('djogja', 2), ('mornig', 2), ('lnjut', 2), ('readopen', 2), ('besk', 2), ('langaung', 2), ('basahin', 2), ('realpict', 2), ('keringat', 2), ('teteknya', 2), ('tatto', 2), ('threesome', 2), ('zaman', 2), ('prnh', 2), ('kutilang', 2), ('korona', 2), ('sampek', 2), ('nembak', 2), ('kenceng', 2), ('doyan', 2), ('telaten', 2), ('mingir', 2), ('kepercayaan', 2), ('sudh', 2), ('hoak', 2), ('adakah', 2), ('xnet', 2), ('dijoga', 2), ('lily', 2), ('translate', 2), ('temein', 2), ('disenengin', 2), ('biieb', 2), ('pcar', 2), ('tegal', 2), ('tulus', 2), ('pp', 2), ('miss', 2), ('ditmpt', 2), ('moaning', 2), ('rabo', 2), ('desika', 2), ('perangsang', 2), ('liem', 2), ('prakoso', 2), ('ekonomis', 2), ('kgen', 2), ('fasht', 1), ('khas', 1), ('jawa', 1), ('ranti', 1), ('keatas', 1), ('mksi', 1), ('pjt', 1), ('gakpapa', 1), ('brendam', 1), ('jjs', 1), ('recomendet', 1), ('contac', 1), ('attention', 1), ('please', 1), ('ckup', 1), ('brngkaat', 1), ('jabodetabek', 1), ('perasan', 1), ('keloon', 1), ('hrp', 1), ('mlyni', 1), ('ngeh', 1), ('terlebih', 1), ('dahulu', 1), ('jenuh', 1), ('empot', 1), ('penjelasannya', 1), ('selamatt', 1), ('cewenya', 1), ('wahid', 1), ('hasyim', 1), ('fulservs', 1), ('pc', 1), ('renspon', 1), ('ditemani', 1), ('bahkan', 1), ('suami', 1), ('opem', 1), ('tgg', 1), ('kunjung', 1), ('tampan', 1), ('mimi', 1), ('jogjaarea', 1), ('selagi', 1), ('hayo', 1), ('ayoh', 1), ('bru', 1), ('sabun', 1), ('butira', 1), ('xx', 1), ('hbs', 1), ('magrib', 1), ('yuukk', 1), ('sematan', 1), ('larasati', 1), ('laras', 1), ('harum', 1), ('oy', 1), ('haber', 1), ('note', 1), ('melon', 1), ('siram', 1), ('tanamanku', 1), ('total', 1), ('shopee', 1), ('farm', 1), ('html', 1), ('skey', 1), ('bbcdcdd', 1), ('schannel', 1), ('lendirnya', 1), ('keeplsot', 1), ('mmf', 1), ('smuaa', 1), ('period', 1), ('pangilan', 1), ('memanjakan', 1), ('menjadi', 1), ('enteng', 1), ('syemok', 1), ('pemanis', 1), ('dwp', 1), ('terjadi', 1), ('nen', 1), ('vcsku', 1), ('slof', 1), ('andaikan', 1), ('brputar', 1), ('kmbali', 1), ('engkau', 1), ('psti', 1), ('sisi', 1), ('colmek', 1), ('riska', 1), ('melda', 1), ('blom', 1), ('bacotan', 1), ('andira', 1), ('tangga', 1), ('kaku', 1), ('menyesuaikan', 1), ('halangan', 1), ('plng', 1), ('kampung', 1), ('puasinn', 1), ('lirikan', 1), ('menembus', 1), ('jantung', 1), ('jilat', 1), ('areq', 1), ('nice', 1), ('buber', 1), ('menyendiri', 1), ('prnah', 1), ('ngerasain', 1), ('trisome', 1), ('ganbang', 1), ('per', 1), ('melayang', 1), ('gabisa', 1), ('santak', 1), ('eman', 1), ('nggo', 1), ('buko', 1), ('sik', 1), ('sllot', 1), ('sorre', 1), ('wahh', 1), ('kuda', 1), ('bebsky', 1), ('nawarnya', 1), ('kebangeten', 1), ('harap', 1), ('maklum', 1), ('pap', 1), ('lusi', 1), ('usia', 1), ('tape', 1), ('ea', 1), ('lamaku', 1), ('seloww', 1), ('kekurangannya', 1), ('pdhl', 1), ('mb', 1), ('enaa', 1), ('jadinya', 1), ('ntr', 1), ('titit', 1), ('semakin', 1), ('kurangannya', 1), ('aktivitas', 1), ('pastinya', 1), ('happywekeend', 1), ('hit', 1), ('requset', 1), ('nyolong', 1), ('segini', 1), ('pen', 1), ('nganu', 1), ('beduaan', 1), ('lorong', 1), ('htel', 1), ('nyata', 1), ('wxclude', 1), ('bonusnya', 1), ('puasinrr', 1), ('bokingan', 1), ('ledies', 1), ('error', 1), ('testinya', 1), ('permanen', 1), ('dikota', 1), ('pijatsensual', 1), ('bray', 1), ('gi', 1), ('kabari', 1), ('promu', 1), ('mursh', 1), ('oper', 1), ('seriua', 1), ('trbit', 1), ('sesegera', 1), ('dipermak', 1), ('pijtn', 1), ('jkt', 1), ('ngajakin', 1), ('maksudnya', 1), ('memperbaiki', 1), ('kehidupan', 1), ('kelak', 1), ('ampunan', 1), ('pek', 1), ('tertentu', 1), ('was', 1), ('akunnya', 1), ('foreolay', 1), ('jilatin', 1), ('paha', 1), ('bacott', 1), ('blokk', 1), ('yk', 1), ('besarn', 1), ('sedikit', 1), ('wajar', 1), ('surat', 1), ('edar', 1), ('kemasan', 1), ('headloop', 1), ('earlop', 1), ('hezra', 1), ('menuju', 1), ('berbintang', 1), ('tentu', 1), ('diawali', 1), ('antara', 1), ('bca', 1), ('bri', 1), ('pengirim', 1), ('jnt', 1), ('jne', 1), ('pos', 1), ('wahana', 1), ('tiki', 1), ('euy', 1), ('sebelom', 1), ('saii', 1), ('menu', 1), ('komplit', 1), ('saba', 1), ('tempatku', 1), ('survay', 1), ('smoga', 1), ('membaik', 1), ('ngangur', 1), ('dibuka', 1), ('aulia', 1), ('chas', 1), ('lelly', 1), ('habs', 1), ('phk', 1), ('kesiangan', 1), ('chubby', 1), ('memel', 1), ('inclode', 1), ('tmpat', 1), ('digalakin', 1), ('orderannya', 1), ('jdwl', 1), ('bydm', 1), ('berminat', 1), ('waku', 1), ('pacarku', 1), ('ngechtt', 1), ('usa', 1), ('khawatir', 1), ('sikon', 1), ('angkut', 1), ('basbasi', 1), ('dtunggu', 1), ('ronyaa', 1), ('slotnyaa', 1), ('reddoorz', 1), ('istirahat', 1), ('mainnya', 1), ('keamanan', 1), ('egk', 1), ('mki', 1), ('bebebku', 1), ('perjaka', 1), ('homoo', 1), ('jogj', 1), ('female', 1), ('paid', 1), ('cwe', 1), ('palah', 1), ('engga', 1), ('hooh', 1), ('mudeng', 1), ('postingan', 1), ('terbaru', 1), ('dicancel', 1), ('alesan', 1), ('anggap', 1), ('jogya', 1), ('rasakan', 1), ('doank', 1), ('beraksi', 1), ('sinih', 1), ('shifa', 1), ('orderan', 1), ('bentar', 1), ('ngilang', 1), ('mode', 1), ('mainin', 1), ('dewasa', 1), ('dildo', 1), ('untukmu', 1), ('dispa', 1), ('manusia', 1), ('ditungguin', 1), ('kejelasan', 1), ('kocok', 1), ('sndri', 1), ('dikocokin', 1), ('terapi', 1), ('gelem', 1), ('kon', 1), ('seh', 1), ('akeh', 1), ('pilhan', 1), ('liyane', 1), ('slain', 1), ('ik', 1), ('toketbulet', 1), ('slotnyah', 1), ('swalayan', 1), ('kabeh', 1), ('laukdaun', 1), ('mett', 1), ('braktivitas', 1), ('cekout', 1), ('godmorning', 1), ('merem', 1), ('clas', 1), ('apartement', 1), ('ndue', 1), ('isin', 1), ('isih', 1), ('tolaklah', 1), ('cara', 1), ('halus', 1), ('opo', 1), ('ngono', 1), ('haduh', 1), ('detail', 1), ('dinginn', 1), ('euein', 1), ('mengecewakan', 1), ('nio', 1), ('arumi', 1), ('jual', 1), ('vaginasenter', 1), ('lingerie', 1), ('hehehe', 1), ('bohay', 1), ('kehabisan', 1), ('baper', 1), ('pengenn', 1), ('rai', 1), ('cilikan', 1), ('kakean', 1), ('rebung', 1), ('cubung', 1), ('gek', 1), ('ngopo', 1), ('jeh', 1), ('aktiv', 1), ('pdo', 1), ('dilockdown', 1), ('gen', 1), ('kapiran', 1), ('rela', 1), ('yen', 1), ('sedulurku', 1), ('podo', 1), ('kapusan', 1), ('devi', 1), ('riana', 1), ('beturut', 1), ('messes', 1), ('diamreta', 1), ('spa', 1), ('nanas', 1), ('tuku', 1), ('gembus', 1), ('kongkon', 1), ('disek', 1), ('berarti', 1), ('goblok', 1), ('wkwkwkw', 1), ('enek', 1), ('soko', 1), ('seng', 1), ('kartini', 1), ('sll', 1), ('berdoa', 1), ('olah', 1), ('raga', 1), ('istrahat', 1), ('cukup', 1), ('trlambat', 1), ('skedar', 1), ('informasi', 1), ('curiga', 1), ('jajal', 1), ('buktikan', 1), ('jebrett', 1), ('nah', 1), ('diblokir', 1), ('jbul', 1), ('tenan', 1), ('progres', 1), ('gawe', 1), ('soro', 1), ('uripmu', 1), ('moring', 1), ('kontrakan', 1), ('voucher', 1), ('have', 1), ('fun', 1), ('tuhh', 1), ('brati', 1), ('selingkuhan', 1), ('nyonya', 1), ('eksekusi', 1), ('giliran', 1), ('dicuekin', 1), ('tega', 1), ('dikau', 1), ('klw', 1), ('pisang', 1), ('wi', 1), ('nungguin', 1), ('kiranya', 1), ('contoh', 1), ('seperty', 1), ('masage', 1), ('nyuuk', 1), ('monday', 1), ('arin', 1), ('morningx', 1), ('meneni', 1), ('menyediakan', 1), ('bebaskondom', 1), ('hayyuuk', 1), ('baperan', 1), ('superior', 1), ('tertagih', 1), ('tagih', 1), ('diprofillku', 1), ('penilaiannya', 1), ('anit', 1), ('seni', 1), ('ht', 1), ('dibuat', 1), ('lodse', 1), ('sjrng', 1), ('dijilmek', 1), ('anime', 1), ('doii', 1), ('ngoceh', 1), ('irene', 1), ('adanya', 1), ('slotkosong', 1), ('genjot', 1), ('liyo', 1), ('njomblo', 1), ('rung', 1), ('incdaerah', 1), ('jcm', 1), ('fs', 1), ('ragukan', 1), ('ngerti', 1), ('alter', 1), ('sklian', 1), ('penipuan', 1), ('telah', 1), ('membawa', 1), ('kabur', 1), ('minjam', 1), ('ternyata', 1), ('seorang', 1), ('masnya', 1), ('beri', 1), ('kelancaran', 1), ('rezki', 1), ('bls', 1), ('curigaan', 1), ('pertemuan', 1), ('sistim', 1), ('secara', 1), ('fisik', 1), ('pengurangan', 1), ('ngeyel', 1), ('manjaan', 1), ('yaaw', 1), ('duyu', 1), ('yaahh', 1), ('rael', 1), ('kmr', 1), ('shemale', 1), ('kehagatan', 1), ('lope', 1), ('avaul', 1), ('bangett', 1), ('nyobain', 1), ('ngegrip', 1), ('lets', 1), ('hawane', 1), ('ngajak', 1), ('berusaha', 1), ('hepi', 1), ('ndeprok', 1), ('ngati', 1), ('manjakan', 1), ('dirimu', 1), ('bokek', 1), ('hp', 1), ('rusak', 1), ('hilang', 1), ('kbiasaan', 1), ('burukku', 1), ('ngecrot', 1), ('mggu', 1), ('be', 1), ('sangge', 1), ('penjualan', 1), ('onlain', 1), ('poppers', 1), ('fariasi', 1), ('setok', 1), ('lebaran', 1), ('simpenan', 1), ('cowo', 1), ('realfoto', 1), ('terbuka', 1), ('peluklah', 1), ('erat', 1), ('oh', 1), ('xt', 1), ('ajayuk', 1), ('rentan', 1), ('terkena', 1), ('diabetes', 1), ('sebab', 1), ('menelan', 1), ('nadia', 1), ('suntukkm', 1), ('kaleng', 1), ('yuhh', 1), ('aza', 1), ('pokokmen', 1), ('disamperin', 1), ('berkabar', 1), ('bis', 1), ('alcoholic', 1), ('alkohol', 1), ('mrasa', 1), ('biasane', 1), ('uhh', 1), ('muncr', 1), ('boss', 1), ('dihangati', 1), ('fantasy', 1), ('pengin', 1), ('disalurin', 1), ('sesuka', 1), ('diomongin', 1), ('rejeki', 1), ('ngatur', 1), ('yuklaahh', 1), ('pembayaran', 1), ('axis', 1), ('sel', 1), ('nember', 1), ('berkah', 1), ('arum', 1), ('siaap', 1), ('bagian', 1), ('gayss', 1), ('yug', 1), ('merapatt', 1), ('yachh', 1), ('pijitin', 1), ('anjir', 1), ('ovo', 1), ('berbayarnya', 1), ('knln', 1), ('angelsreal', 1), ('prawirotan', 1), ('uyy', 1), ('exclide', 1), ('didadaku', 1), ('keeping', 1), ('rute', 1), ('your', 1), ('rani', 1), ('sebutin', 1), ('nm', 1), ('jemuachh', 1), ('pndah', 1), ('konten', 1), ('mnjain', 1), ('najwa', 1), ('sya', 1), ('lonte', 1), ('knpa', 1), ('disebutin', 1), ('matur', 1), ('nuwun', 1), ('kesopananya', 1), ('shela', 1), ('chill', 1), ('punyaku', 1), ('meskipun', 1), ('termasuk', 1), ('image', 1), ('hunter', 1), ('ketentuan', 1), ('mewujudkan', 1), ('fantasinya', 1), ('kr', 1), ('smg', 1), ('ramaikan', 1), ('belajar', 1), ('pengalaman', 1), ('absen', 1), ('selebram', 1), ('ruthstef', 1), ('dpan', 1), ('naa', 1), ('ye', 1), ('awareness', 1), ('penikmat', 1), ('escort', 1), ('hrs', 1), ('diubah', 1), ('klien', 1), ('caption', 1), ('salah', 1), ('lainya', 1), ('bujuk', 1), ('rayu', 1), ('byk', 1), ('mindset', 1), ('ubah', 1), ('doing', 1), ('from', 1), ('memanfaatkan', 1), ('lelaki', 1), ('sbg', 1), ('komoditi', 1), ('expomadiun', 1), ('uangsaku', 1), ('comblangin', 1), ('berjemur', 1), ('semaleman', 1), ('includehotel', 1), ('sukdah', 1), ('idpro', 1), ('daftar', 1), ('loveyoumoremv', 1), ('sexmorning', 1), ('kari', 1), ('soto', 1), ('melek', 1), ('alex', 1), ('donlot', 1), ('mung', 1), ('golek', 1), ('meh', 1), ('spp', 1), ('thputih', 1), ('rapt', 1), ('aeriuss', 1), ('berkomitmen', 1), ('menguntungkan', 1), ('exposolo', 1), ('jogjanakal', 1), ('clean', 1), ('drop', 1), ('ur', 1), ('fraud', 1), ('experience', 1), ('here', 1), ('website', 1), ('sertakan', 1), ('berupa', 1), ('sc', 1), ('playboyalter', 1), ('bosspku', 1), ('seminggu', 1), ('yogyakartaa', 1), ('kmu', 1), ('layanin', 1), ('bacrit', 1), ('sygkuu', 1), ('gituloh', 1), ('sudahh', 1), ('mt', 1), ('kapokmu', 1), ('rumangsamu', 1), ('jogjs', 1), ('enakny', 1), ('loch', 1), ('lezat', 1), ('goyangin', 1), ('gasskeun', 1), ('dirumahseharisaja', 1), ('pencet', 1), ('analogku', 1), ('ksong', 1), ('slootnya', 1), ('jilboob', 1), ('ers', 1), ('antar', 1), ('trust', 1), ('hasil', 1), ('waspada', 1), ('jualan', 1), ('tambain', 1), ('tagarnya', 1), ('cw', 1), ('suasana', 1), ('dimanfaatin', 1), ('hasem', 1), ('bawang', 1), ('paymen', 1), ('aah', 1), ('berfikiran', 1), ('negatif', 1), ('vit', 1), ('imun', 1), ('baik', 1), ('kesehatn', 1), ('blah', 1), ('smartphone', 1), ('kuota', 1), ('menang', 1), ('hingga', 1), ('jutaan', 1), ('rupiah', 1), ('bermain', 1), ('referensikan', 1), ('situs', 1), ('klaim', 1), ('chips', 1), ('referral', 1), ('hub', 1), ('anall', 1), ('snage', 1), ('mrp', 1), ('bleh', 1), ('usha', 1), ('lesbi', 1), ('bisex', 1), ('siapapun', 1), ('regional', 1), ('harumnya', 1), ('bsook', 1), ('hotelya', 1), ('distributor', 1), ('soloco', 1), ('menjual', 1), ('produk', 1), ('whatsap', 1), ('kapok', 1), ('derr', 1), ('gaeeshh', 1), ('kbls', 1), ('sibuk', 1), ('peliharaannya', 1), ('show', 1), ('gagal', 1), ('sokan', 1), ('kndom', 1), ('pijaddict', 1), ('dasar', 1), ('santet', 1), ('akunpenipu', 1), ('pancen', 1), ('inii', 1), ('end', 1), ('fullservic', 1), ('ngikut', 1), ('masak', 1), ('tra', 1), ('tanteyg', 1), ('bisadi', 1), ('hangatim', 1), ('kalangaan', 1), ('yyhaa', 1), ('lenata', 1), ('suspend', 1), ('beru', 1), ('ngentod', 1), ('adalaah', 1), ('istrht', 1), ('opennya', 1), ('koey', 1), ('telegram', 1), ('mega', 1), ('update', 1), ('file', 1), ('gb', 1), ('yakk', 1), ('salamm', 1), ('berdberdua', 1), ('us', 1), ('pleasure', 1), ('seeker', 1), ('community', 1), ('mass', 1), ('fastrsp', 1), ('nyesal', 1), ('knp', 1), ('ben', 1), ('ndelok', 1), ('pemandangan', 1), ('kepanasen', 1), ('sithik', 1), ('keno', 1), ('viruse', 1), ('bar', 1), ('kringetan', 1), ('mergo', 1), ('kudaan', 1), ('pokmen', 1), ('calon', 1), ('suruh', 1), ('baea', 1), ('hubunganya', 1), ('mengikuti', 1), ('anjuran', 1), ('pemerintah', 1), ('lookdown', 1), ('sefruit', 1), ('tertangguhkan', 1), ('help', 1), ('mainkan', 1), ('egypt', 1), ('joker', 1), ('gaming', 1), ('jackpot', 1), ('besar', 1), ('chip', 1), ('sebesar', 1), ('fb', 1), ('betclub', 1), ('clluding', 1), ('tanyakan', 1), ('nggih', 1), ('hehee', 1), ('menangis', 1), ('dangdut', 1), ('merinding', 1), ('disco', 1), ('sedia', 1), ('urus', 1), ('oktafiani', 1), ('zeyeng', 1), ('kuhh', 1), ('berapa', 1), ('lendirku', 1), ('greget', 1), ('pertnghn', 1), ('tour', 1), ('cikarang', 1), ('tangerang', 1), ('plmbng', 1), ('so', 1), ('kacian', 1), ('kelonin', 1), ('hahaha', 1), ('muncul', 1), ('njepitt', 1), ('waduh', 1), ('wk', 1), ('ayoo', 1), ('maing', 1), ('pergilah', 1), ('lepaskan', 1), ('kolorna', 1), ('arae', 1), ('ckp', 1), ('jepitan', 1), ('sexxku', 1), ('non', 1), ('kredit', 1), ('cimb', 1), ('anual', 1), ('terkahir', 1), ('klasan', 1), ('includeroom', 1), ('ayangg', 1), ('krakatau', 1), ('harusnya', 1), ('ereksi', 1), ('tnpa', 1), ('fre', 1), ('ruler', 1), ('mkasih', 1), ('nay', 1), ('kraton', 1), ('apasih', 1), ('ajg', 1), ('sixpack', 1), ('nginep', 1), ('sni', 1), ('qhu', 1), ('prambanan', 1), ('galuh', 1), ('gaskun', 1), ('opwn', 1), ('bencana', 1), ('biasanya', 1), ('amin', 1), ('kebetulan', 1), ('semprotan', 1), ('disinfektan', 1), ('bole', 1), ('bisaa', 1), ('mletus', 1), ('merapinya', 1), ('emutan', 1), ('berbagai', 1), ('ardityo', 1), ('satunya', 1), ('ane', 1), ('penjara', 1), ('namanya', 1), ('jelek', 1), ('klarifikasi', 1), ('giveaway', 1), ('content', 1), ('senen', 1), ('rencana', 1), ('zahwa', 1), ('serangan', 1), ('fajar', 1), ('ayy', 1), ('sensualitas', 1), ('alamat', 1), ('kesitu', 1), ('gayy', 1), ('model', 1), ('sekian', 1), ('plis', 1), ('buang', 1), ('bukanya', 1), ('rugi', 1), ('sampah', 1), ('oral', 1), ('emotin', 1), ('sekolahan', 1), ('bottom', 1), ('big', 1), ('berduit', 1), ('dipuaskan', 1), ('ksgbeb', 1), ('muasin', 1), ('membawaku', 1), ('larut', 1), ('lamunan', 1), ('fyan', 1), ('jogjaopenbo', 1), ('hangantin', 1), ('memenuhi', 1), ('sulit', 1), ('laporan', 1), ('sumber', 1), ('rekening', 1), ('destyana', 1), ('wulandari', 1), ('menghancurkan', 1), ('segalanya', 1), ('reday', 1), ('dikosan', 1), ('kompak', 1), ('kka', 1), ('desah', 1), ('daya', 1), ('masyarakat', 1), ('menurun', 1), ('budget', 1), ('trs', 1), ('nyusul', 1), ('penawar', 1), ('pick', 1), ('dibales', 1), ('wartwan', 1), ('glenn', 1), ('fredly', 1), ('musisi', 1), ('psen', 1), ('hanguss', 1), ('pesonamu', 1), ('dear', 1), ('inbx', 1), ('slmtmlm', 1), ('suntik', 1), ('bossq', 1), ('ksepian', 1), ('btuh', 1), ('kotagede', 1), ('pke', 1), ('hiburan', 1), ('fullserv', 1), ('openaja', 1), ('nikmatin', 1), ('menyusul', 1), ('sopo', 1), ('reti', 1), ('asyik', 1), ('tenin', 1), ('njih', 1), ('iblis', 1), ('mely', 1), ('ila', 1), ('lu', 1), ('nikah', 1), ('bumbu', 1), ('panloknya', 1), ('maksa', 1), ('pdahal', 1), ('apain', 1), ('syggku', 1), ('hitam', 1), ('avaible', 1), ('tmenin', 1), ('sendri', 1), ('ipen', 1), ('bododh', 1), ('kebangetan', 1), ('tracking', 1), ('zonk', 1), ('sakmeniko', 1), ('sampun', 1), ('sakwetawis', 1), ('menawi', 1), ('ngersa', 1), ('kulo', 1), ('joss', 1), ('oles', 1), ('perhari', 1), ('wajindp', 1), ('mna', 1), ('dilanjut', 1), ('terserah', 1), ('bilang', 1), ('bodoamat', 1), ('aih', 1), ('eneng', 1), ('gaees', 1), ('meluk', 1), ('alone', 1), ('malamku', 1), ('nexttime', 1), ('gasken', 1), ('rahma', 1), ('gamau', 1), ('suspen', 1), ('urusan', 1), ('sapi', 1), ('huhhf', 1), ('bt', 1), ('pagiku', 1), ('pulih', 1), ('cerah', 1), ('merapatsplashing', 1), ('symbolsplashing', 1), ('symbolface', 1), ('throwing', 1), ('kisskiss', 1), ('mark', 1), ('detik', 1), ('inget', 1), ('cepet', 1), ('admin', 1), ('pecel', 1), ('lele', 1), ('hashtag', 1), ('woalah', 1), ('tertulis', 1), ('expodisi', 1), ('berikan', 1), ('soda', 1), ('gembira', 1), ('iriawan', 1), ('alana', 1), ('huhu', 1), ('orangnya', 1), ('gantiin', 1), ('smlm', 1), ('tautan', 1), ('dtgg', 1), ('pelampiasan', 1), ('muncratin', 1), ('kepercayaannya', 1), ('unt', 1), ('hush', 1), ('smk', 1), ('limit', 1), ('lusa', 1), ('rrady', 1), ('mgkn', 1), ('suamimu', 1), ('kerumahku', 1), ('kuhidangkan', 1), ('suguhkan', 1), ('vers', 1), ('not', 1), ('kuliahan', 1), ('hundred', 1), ('symbol', 1), ('nohomo', 1), ('merangkai', 1), ('buged', 1), ('diutamakan', 1), ('samasama', 1), ('ciang', 1), ('moening', 1), ('kekunci', 1), ('condong', 1), ('catur', 1), ('sayangan', 1), ('pornostar', 1), ('indo', 1), ('maluvv', 1), ('kualitas', 1), ('celana', 1), ('galeria', 1), ('mall', 1), ('appointment', 1), ('paijo', 1), ('officil', 1), ('co', 1), ('anis', 1), ('kenapa', 1), ('dcnya', 1), ('jaminan', 1), ('dienakin', 1), ('walaupun', 1), ('gakmau', 1), ('diliatin', 1), ('save', 1), ('healthy', 1), ('trustd', 1), ('pgen', 1), ('wanit', 1), ('barangkali', 1), ('manjhaa', 1), ('terjangkau', 1), ('phh', 1), ('mempermainkan', 1), ('kususnya', 1), ('ditemnin', 1), ('ditinggal', 1), ('jumatnya', 1), ('jumaatannya', 1), ('saysmiling', 1), ('hearts', 1), ('sturan', 1), ('bisanya', 1), ('brow', 1), ('ckeckin', 1), ('ndablo', 1), ('nang', 1), ('disangoni', 1), ('jo', 1), ('diboking', 1), ('jumpa', 1), ('quarantine', 1), ('inclroom', 1), ('les', 1), ('silahakan', 1), ('diisep', 1), ('diambil', 1), ('reserverasi', 1), ('ditubgfu', 1), ('terakhirdi', 1), ('yumk', 1), ('sosoan', 1), ('kedua', 1), ('ehh', 1), ('cansel', 1), ('anjeng', 1), ('ganguin', 1), ('mamak', 1), ('bozan', 1), ('availjgja', 1), ('minim', 1), ('tggl', 1), ('iy', 1), ('lokduon', 1), ('dompete', 1), ('kandel', 1), ('kedatangan', 1), ('yeey', 1), ('rini', 1), ('jozz', 1), ('selektif', 1), ('memilih', 1), ('tanteibujanda', 1), ('sepagi', 1), ('keringetan', 1), ('mnjdi', 1), ('rada', 1), ('kondusif', 1), ('virus', 1), ('ngelonin', 1), ('met', 1), ('sayaang', 1), ('kulum', 1), ('meleleh', 1), ('terbang', 1), ('kanan', 1), ('kiri', 1), ('mangga', 1), ('excludenya', 1), ('saat', 1), ('tempur', 1), ('ayem', 1), ('vanny', 1), ('berjuang', 1), ('jatuh', 1), ('dikira', 1), ('rekayasa', 1), ('numpung', 1), ('xfulltime', 1), ('citradream', 1), ('pelajar', 1), ('moh', 1), ('nex', 1), ('dinego', 1), ('atuh', 1), ('ayamkampus', 1), ('pripun', 1), ('mi', 1), ('duaan', 1), ('keto', 1), ('adaa', 1), ('dana', 1), ('kaa', 1), ('bergkat', 1), ('kah', 1), ('bro', 1), ('senabg', 1), ('srikandi', 1), ('xcroot', 1), ('ayokk', 1), ('diisap', 1), ('jumbo', 1), ('elastis', 1), ('kontrasepsi', 1), ('toko', 1), ('safe', 1), ('care', 1), ('cuci', 1), ('tangan', 1), ('negriku', 1), ('mnandi', 1), ('jkserius', 1), ('perempuan', 1), ('pingin', 1), ('gtu', 1), ('hahahha', 1), ('nge', 1), ('prifasi', 1), ('ngrasain', 1), ('felishia', 1), ('truss', 1), ('kemakassar', 1), ('selain', 1), ('delete', 1), ('amanda', 1), ('bawain', 1), ('rokok', 1), ('nonego', 1), ('wuhan', 1), ('ciuman', 1), ('emut', 1), ('lidah', 1), ('tebak', 1), ('hehehehe', 1), ('ketiga', 1), ('inih', 1), ('nglanguut', 1), ('soale', 1), ('status', 1), ('turuwae', 1), ('oktary', 1), ('pijay', 1), ('barusan', 1), ('dipenjara', 1), ('metu', 1), ('wong', 1), ('ra', 1), ('entuk', 1), ('bocahe', 1), ('itupun', 1), ('tm', 1), ('asyeek', 1), ('tete', 1), ('skg', 1), ('ngeblock', 1), ('indahnya', 1), ('siakan', 1), ('atmu', 1), ('jihan', 1), ('pisangnya', 1), ('stlt', 1), ('openboking', 1), ('sedih', 1), ('bapak', 1), ('sibro', 1), ('kudakudaan', 1), ('smngt', 1), ('aftrnon', 1), ('bgor', 1), ('patner', 1), ('nnt', 1), ('iini', 1), ('vcall', 1), ('wujudin', 1), ('slesai', 1), ('tujuan', 1), ('readdy', 1), ('malahh', 1), ('lhoyg', 1), ('wus', 1), ('bingit', 1), ('dikarantina', 1), ('asrama', 1), ('temanggung', 1), ('satang', 1), ('oli', 1), ('pikiran', 1), ('moning', 1), ('mis', 1), ('camsex', 1), ('dilayanin', 1), ('terpcya', 1), ('berbyar', 1), ('prvasi', 1), ('kesana', 1), ('im', 1), ('ijin', 1), ('mssge', 1), ('rina', 1), ('pistol', 1), ('dikmar', 1), ('benerar', 1), ('boobs', 1), ('nurut', 1), ('fj', 1), ('pokoknya', 1), ('komunikatif', 1), ('isijumatslot', 1), ('parkir', 1), ('luas', 1), ('hl', 1), ('concat', 1), ('remaja', 1), ('tidk', 1), ('negon', 1), ('ngutang', 1), ('enaena', 1), ('harganya', 1), ('dipercayain', 1), ('disia', 1), ('siain', 1), ('momod', 1), ('menggoyang', 1), ('muahh', 1), ('yuc', 1), ('upload', 1), ('hii', 1), ('ky', 1), ('ndri', 1), ('chtwa', 1), ('serepatnya', 1), ('syv', 1), ('bales', 1), ('ss', 1), ('kog', 1), ('feri', 1), ('bambang', 1), ('agus', 1), ('colongan', 1), ('ope', 1), ('sja', 1), ('buatkeepslott', 1), ('menaati', 1), ('meoww', 1), ('adik', 1), ('bgsd', 1), ('nyantai', 1), ('mantul', 1), ('ala', 1), ('sepertinya', 1), ('bh', 1), ('doi', 1), ('lwt', 1), ('nmr', 1), ('promosi', 1), ('readi', 1), ('doa', 1), ('aminin', 1), ('tuhan', 1), ('deras', 1), ('mesraan', 1), ('adha', 1), ('pnggilan', 1), ('norespon', 1), ('kosongnya', 1), ('whtsap', 1), ('nib', 1), ('therapis', 1), ('bengkel', 1), ('smrg', 1), ('move', 1), ('enjoy', 1), ('piknik', 1), ('klimaks', 1), ('ai', 1), ('fuc', 1), ('vony', 1), ('ty', 1), ('nextnya', 1), ('repeat', 1), ('nophp', 1), ('bakalan', 1), ('giwangan', 1), ('lylla', 1), ('restaurant', 1), ('artis', 1), ('ngetop', 1), ('prestasi', 1), ('like', 1), ('capa', 1), ('pulkam', 1), ('skidi', 1), ('papap', 1), ('timoho', 1), ('deby', 1), ('selingkuh', 1), ('nude', 1), ('silakhan', 1), ('jadual', 1), ('reqwes', 1), ('braksi', 1), ('sisany', 1), ('yas', 1), ('waria', 1), ('serfis', 1), ('salome', 1), ('gilir', 1), ('diroom', 1), ('yuuhu', 1), ('jamal', 1), ('lakukan', 1), ('feyy', 1), ('kesolo', 1), ('sebutkan', 1), ('ramaikeun', 1), ('ping', 1), ('pegel', 1), ('debat', 1), ('padahal', 1), ('disana', 1), ('takut', 1), ('dhea', 1), ('exlude', 1), ('bersyarat', 1), ('kta', 1), ('slotnys', 1), ('kamisan', 1), ('avaiil', 1), ('single', 1), ('ahh', 1), ('xml', 1), ('syahhdu', 1), ('ramuan', 1), ('blue', 1), ('wizard', 1), ('bergairah', 1), ('pemesanan', 1), ('nyantol', 1), ('kusayang', 1), ('kuyup', 1), ('xixixi', 1), ('tq', 1), ('customer', 1), ('dlyni', 1), ('dikepoin', 1), ('nadin', 1), ('kendor', 1), ('ayoj', 1), ('joint', 1), ('srg', 1), ('muncrat', 1), ('wis', 1), ('tekan', 1), ('mengadakan', 1), ('terisi', 1), ('ditentuin', 1), ('sawo', 1), ('matang', 1), ('shorttime', 1), ('kasar', 1), ('kudus', 1), ('demak', 1), ('weekendnya', 1), ('strategis', 1), ('akn', 1), ('umr', 1), ('mnat', 1), ('evha', 1), ('kenikmatan', 1), ('membantu', 1), ('banyuwangi', 1), ('illira', 1), ('baynyuwangi', 1), ('ditemeni', 1), ('hal', 1), ('menemani', 1), ('minar', 1), ('nyasar', 1), ('lolalolo', 1), ('mintak', 1), ('yukkss', 1), ('atm', 1), ('dmn', 1), ('jls', 1), ('isislotnya', 1), ('sebagai', 1), ('rapi', 1), ('pantat', 1), ('syukur', 1), ('asik', 1), ('nadira', 1), ('bocha', 1), ('bukn', 1), ('utama', 1), ('cmn', 1), ('menghibur', 1), ('panik', 1), ('sobat', 1), ('masslover', 1), ('diorder', 1), ('malesi', 1), ('dimuka', 1), ('setuju', 1), ('sayangannya', 1), ('jugak', 1), ('misalnya', 1), ('purun', 1), ('glingsengan', 1), ('mean', 1), ('rahim', 1), ('wartawan', 1), ('spec', 1), ('scrolldown', 1), ('seriuas', 1), ('tuk', 1), ('ongkos', 1)]\n"
          ],
          "name": "stdout"
        }
      ]
    },
    {
      "cell_type": "code",
      "metadata": {
        "trusted": true,
        "id": "GAICyEdKnzv9",
        "colab_type": "code",
        "colab": {}
      },
      "source": [
        "positive_tokens_for_model = get_tweets_for_model(positive_tweet_tokens)\n",
        "negative_tokens_for_model = get_tweets_for_model(negative_tweet_tokens)"
      ],
      "execution_count": 0,
      "outputs": []
    },
    {
      "cell_type": "code",
      "metadata": {
        "trusted": true,
        "id": "UEVPSnqunzwB",
        "colab_type": "code",
        "colab": {}
      },
      "source": [
        "positive_dataset = [(tweet_dict, \"True\")\n",
        "\t\t\t\t\t\tfor tweet_dict in positive_tokens_for_model]\n",
        "negative_dataset = [(tweet_dict, \"False\")\n",
        "\t\t\t\t\t\tfor tweet_dict in negative_tokens_for_model]"
      ],
      "execution_count": 0,
      "outputs": []
    },
    {
      "cell_type": "markdown",
      "metadata": {
        "id": "3vRHsw8LnzwE",
        "colab_type": "text"
      },
      "source": [
        "Berikan label pada setiap kata yang termasuk dalam kategori True dan False"
      ]
    },
    {
      "cell_type": "code",
      "metadata": {
        "trusted": true,
        "id": "da-Mfm2OnzwE",
        "colab_type": "code",
        "colab": {}
      },
      "source": [
        "dataset = positive_dataset + negative_dataset"
      ],
      "execution_count": 0,
      "outputs": []
    },
    {
      "cell_type": "markdown",
      "metadata": {
        "id": "kNvbPRecnzwG",
        "colab_type": "text"
      },
      "source": [
        "Gabungkan semua daftar kata dalam sebuah list"
      ]
    },
    {
      "cell_type": "code",
      "metadata": {
        "trusted": true,
        "id": "kAt0K-ybnzwH",
        "colab_type": "code",
        "colab": {}
      },
      "source": [
        "random.shuffle(dataset)"
      ],
      "execution_count": 0,
      "outputs": []
    },
    {
      "cell_type": "code",
      "metadata": {
        "trusted": true,
        "id": "4NaX_n1nnzwJ",
        "colab_type": "code",
        "colab": {}
      },
      "source": [
        "train_data = dataset[:40000]\n",
        "test_data = dataset[9600:]"
      ],
      "execution_count": 0,
      "outputs": []
    },
    {
      "cell_type": "markdown",
      "metadata": {
        "id": "GNwfX7uQnzwL",
        "colab_type": "text"
      },
      "source": [
        "Buat alokasi data training : data testing"
      ]
    },
    {
      "cell_type": "code",
      "metadata": {
        "trusted": true,
        "id": "H76P2RAonzwL",
        "colab_type": "code",
        "colab": {}
      },
      "source": [
        "classifier = NaiveBayesClassifier.train(train_data)"
      ],
      "execution_count": 0,
      "outputs": []
    },
    {
      "cell_type": "code",
      "metadata": {
        "trusted": true,
        "id": "qPX3wCHBnzwP",
        "colab_type": "code",
        "colab": {
          "base_uri": "https://localhost:8080/",
          "height": 34
        },
        "outputId": "50638b5d-f2e6-478d-d1e5-c6f2be74698a"
      },
      "source": [
        "print(\"Akurasi Klasifikasi Naive Bayes\\t:\\t\"+\"{:.2f}\".format(classify.accuracy(classifier, test_data) * 100)+\" %\")"
      ],
      "execution_count": 22,
      "outputs": [
        {
          "output_type": "stream",
          "text": [
            "Akurasi Klasifikasi Naive Bayes\t:\t98.61 %\n"
          ],
          "name": "stdout"
        }
      ]
    },
    {
      "cell_type": "code",
      "metadata": {
        "trusted": true,
        "id": "b3Zd-TxmnzwR",
        "colab_type": "code",
        "colab": {}
      },
      "source": [
        "test_result = []\n",
        "classifier_result = []\n",
        "\n",
        "for i in range(len(test_data)):\n",
        "\ttest_result.append(classifier.classify(test_data[i][0]))\n",
        "\tclassifier_result.append(test_data[i][1])\n",
        "\n",
        "c_matrix = nltk.ConfusionMatrix(classifier_result, test_result)"
      ],
      "execution_count": 0,
      "outputs": []
    },
    {
      "cell_type": "markdown",
      "metadata": {
        "id": "bbnk_yxqnzwT",
        "colab_type": "text"
      },
      "source": [
        "Lakukan pengujian menggunakan confusion matrix"
      ]
    },
    {
      "cell_type": "code",
      "metadata": {
        "trusted": true,
        "id": "E_2qMuO1nzwT",
        "colab_type": "code",
        "colab": {
          "base_uri": "https://localhost:8080/",
          "height": 221
        },
        "outputId": "dbb6dbab-c076-48a6-e101-c087e6ae493a"
      },
      "source": [
        "print(f\"Confusion Matrix :\\n{c_matrix}\", )"
      ],
      "execution_count": 24,
      "outputs": [
        {
          "output_type": "stream",
          "text": [
            "Confusion Matrix :\n",
            "      |     F       |\n",
            "      |     a     T |\n",
            "      |     l     r |\n",
            "      |     s     u |\n",
            "      |     e     e |\n",
            "------+-------------+\n",
            "False |<15122>   31 |\n",
            " True |   393<14854>|\n",
            "------+-------------+\n",
            "(row = reference; col = test)\n",
            "\n"
          ],
          "name": "stdout"
        }
      ]
    },
    {
      "cell_type": "code",
      "metadata": {
        "trusted": true,
        "id": "EomLZ-5pnzwW",
        "colab_type": "code",
        "colab": {
          "base_uri": "https://localhost:8080/",
          "height": 85
        },
        "outputId": "2c5fa995-e476-4501-c8be-c2d441b03441"
      },
      "source": [
        "labels = {'True', 'False'}\n",
        "\n",
        "TP, FN, FP = Counter(), Counter(), Counter()\n",
        "for i in labels:\n",
        "\tfor j in labels:\n",
        "\t\tif i == j:\n",
        "\t\t\tTP[i] += int(c_matrix[i,j])\n",
        "\t\telse:\n",
        "\t\t\tFN[i] += int(c_matrix[i,j])\n",
        "\t\t\tFP[j] += int(c_matrix[i,j])\n",
        "print(\"label   | precision             | recall                | f_measure         \")\n",
        "print(\"--------+-----------------------+-----------------------+-------------------\")\n",
        "for label in sorted(labels):\n",
        "\tprecision, recall = 0, 0\n",
        "\tif TP[label] == 0:\n",
        "\t\tf_measure = 0\n",
        "\telse:\n",
        "\t\tprecision = float(TP[label]) / (TP[label]+FP[label])\n",
        "\t\trecall = float(TP[label]) / (TP[label]+FN[label])\n",
        "\t\tf_measure = float(2) * (precision * recall) / (precision + recall)\n",
        "\tprint(f\"{label}\\t| {precision}\\t| {recall}\\t| {f_measure}\")"
      ],
      "execution_count": 25,
      "outputs": [
        {
          "output_type": "stream",
          "text": [
            "label   | precision             | recall                | f_measure         \n",
            "--------+-----------------------+-----------------------+-------------------\n",
            "False\t| 0.9746696745085401\t| 0.9979542004883521\t| 0.9861745141515587\n",
            "True\t| 0.9979173664763185\t| 0.9742244375942808\t| 0.9859285809106597\n"
          ],
          "name": "stdout"
        }
      ]
    },
    {
      "cell_type": "code",
      "metadata": {
        "trusted": true,
        "id": "4N_y1uRLnzwY",
        "colab_type": "code",
        "colab": {
          "base_uri": "https://localhost:8080/",
          "height": 391
        },
        "outputId": "855f9d6d-525d-4c23-917f-fd78a0ecb6c8"
      },
      "source": [
        "print(classifier.show_most_informative_features(20))"
      ],
      "execution_count": 26,
      "outputs": [
        {
          "output_type": "stream",
          "text": [
            "Most Informative Features\n",
            "                      bo = True             True : False  =    910.3 : 1.0\n",
            "                    baik = True            False : True   =    450.3 : 1.0\n",
            "                 twitter = True            False : True   =    413.0 : 1.0\n",
            "                 content = True            False : True   =    367.0 : 1.0\n",
            "                     exc = True             True : False  =    365.0 : 1.0\n",
            "                    saat = True            False : True   =    350.3 : 1.0\n",
            "                 slotnya = True             True : False  =    315.0 : 1.0\n",
            "                    like = True            False : True   =    309.7 : 1.0\n",
            "                   salah = True            False : True   =    308.3 : 1.0\n",
            "                      rr = True             True : False  =    266.3 : 1.0\n",
            "                 menjadi = True            False : True   =    265.0 : 1.0\n",
            "                  mereka = True            False : True   =    250.6 : 1.0\n",
            "                 include = True             True : False  =    249.8 : 1.0\n",
            "                      tu = True            False : True   =    248.6 : 1.0\n",
            "               indonesia = True            False : True   =    245.0 : 1.0\n",
            "                     inc = True             True : False  =    244.6 : 1.0\n",
            "                      lt = True             True : False  =    244.5 : 1.0\n",
            "                   sebab = True            False : True   =    239.7 : 1.0\n",
            "                    kata = True            False : True   =    221.0 : 1.0\n",
            "                  kenapa = True            False : True   =    221.0 : 1.0\n",
            "None\n"
          ],
          "name": "stdout"
        }
      ]
    }
  ]
}