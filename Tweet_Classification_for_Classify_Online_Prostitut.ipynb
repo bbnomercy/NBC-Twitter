{
  "nbformat": 4,
  "nbformat_minor": 0,
  "metadata": {
    "kernelspec": {
      "language": "python",
      "display_name": "Python 3",
      "name": "python3"
    },
    "language_info": {
      "pygments_lexer": "ipython3",
      "nbconvert_exporter": "python",
      "version": "3.6.4",
      "file_extension": ".py",
      "codemirror_mode": {
        "name": "ipython",
        "version": 3
      },
      "name": "python",
      "mimetype": "text/x-python"
    },
    "colab": {
      "name": "Tweet Classification for Classify Online Prostitut.ipynb",
      "provenance": []
    }
  },
  "cells": [
    {
      "cell_type": "markdown",
      "metadata": {
        "id": "eryZlfmUnzvH",
        "colab_type": "raw"
      },
      "source": [
        "Pada notebook ini akan menerapkan model klasifikasi teks pada data Twitter menggunakan metode Naive Bayes Classifier untuk melakukan klasifikasi tweet dalam kategori prostitusi (True) ataupun bukan prostitusi (False).\n",
        "\n",
        "\n",
        "Dataset yang dimasukkan disini meliputi data training dan data testing. Ada 40000 data training yang dibagi menjadi dua bagian, yaitu data 20000 True (prostitusi) dan 20000 data False (bukan prostitusi), dan 10000 data sebagai data testing.\n",
        "\n",
        "Pengujian dilakukan untuk menentukan akurasi klasifikasi metode NBC dan menggunakan Confusion Matrix"
      ]
    },
    {
      "cell_type": "markdown",
      "metadata": {
        "id": "OSP8HsN3nzvI",
        "colab_type": "text"
      },
      "source": [
        "Langkah pertama, persiapkan module python yang akan digunakan"
      ]
    },
    {
      "cell_type": "code",
      "metadata": {
        "trusted": true,
        "id": "-Luf19yynzvJ",
        "colab_type": "code",
        "colab": {}
      },
      "source": [
        "import pandas as pd\n",
        "import string\n",
        "import numpy as np\n",
        "import nltk\n",
        "import re\n",
        "import random\n",
        "from nltk.tokenize import word_tokenize\n",
        "from nltk import FreqDist,classify, NaiveBayesClassifier\n",
        "from sklearn.metrics import confusion_matrix,classification_report\n",
        "from collections import Counter"
      ],
      "execution_count": 0,
      "outputs": []
    },
    {
      "cell_type": "markdown",
      "metadata": {
        "id": "ULgQjnjcnzvN",
        "colab_type": "text"
      },
      "source": [
        "Import data training dan data testing"
      ]
    },
    {
      "cell_type": "code",
      "metadata": {
        "trusted": true,
        "id": "K_Jaoee3nzvO",
        "colab_type": "code",
        "colab": {}
      },
      "source": [
        "data_train_true = pd.read_excel('../content/twitter-prostitute.xlsx')\n",
        "data_train_false = pd.read_excel('../content/twitter-not-prostitute.xlsx')\n",
        "data_test = pd.read_excel('../content/labeled-data-testing.xlsx')"
      ],
      "execution_count": 0,
      "outputs": []
    },
    {
      "cell_type": "code",
      "metadata": {
        "trusted": true,
        "id": "1c0Xiq3HnzvR",
        "colab_type": "code",
        "outputId": "258221e0-ba42-4afd-bcbf-49a922e2a7fd",
        "colab": {
          "base_uri": "https://localhost:8080/",
          "height": 119
        }
      },
      "source": [
        "print(data_train_true['tweet'].head())"
      ],
      "execution_count": 3,
      "outputs": [
        {
          "output_type": "stream",
          "text": [
            "0    AvaiL BO yaa beb😙\\nWA 0831 9315 9762\\n#AvailJo...\n",
            "1    Include exclude Ready beb \\nWa 0831 9315 9762\\...\n",
            "2    AvaiL Jogja Minat DM aja😍\\nFasht Respon.\\n#Ava...\n",
            "3    MAEN SANTAI GA BURU\" \\nFULL SERVICE NO ANAL US...\n",
            "4    New bie...Ready ya..2 slot aja 085647266101\\n#...\n",
            "Name: tweet, dtype: object\n"
          ],
          "name": "stdout"
        }
      ]
    },
    {
      "cell_type": "code",
      "metadata": {
        "trusted": true,
        "id": "Lmsaf6sZnzvU",
        "colab_type": "code",
        "outputId": "5ec9483d-bb27-4378-a164-5930b44b0116",
        "colab": {
          "base_uri": "https://localhost:8080/",
          "height": 119
        }
      },
      "source": [
        "print(data_train_false['tweet'].head())"
      ],
      "execution_count": 4,
      "outputs": [
        {
          "output_type": "stream",
          "text": [
            "0    Lanjutannya, siapa yang naruh bawang disini _�...\n",
            "1    1 Ramadan : Hari Juma'at.\\n8 Ramadan : Hari Ju...\n",
            "2    Selamat berbuka puasa kepada semua�_��� pic.tw...\n",
            "3    Aku mau nepatin janji aku kalo taekook selca a...\n",
            "4    Bagi Bagi Saldo\\nada saldo 100k untuk 4 pemena...\n",
            "Name: tweet, dtype: object\n"
          ],
          "name": "stdout"
        }
      ]
    },
    {
      "cell_type": "code",
      "metadata": {
        "trusted": true,
        "id": "gNmNfxcWnzvX",
        "colab_type": "code",
        "outputId": "90522d77-cd89-420b-ebd1-8ddea353863b",
        "colab": {
          "base_uri": "https://localhost:8080/",
          "height": 119
        }
      },
      "source": [
        "print(data_test['tweet'].head())"
      ],
      "execution_count": 5,
      "outputs": [
        {
          "output_type": "stream",
          "text": [
            "0    Design Kaos Jathilan Jogja by heljog | S, M, L...\n",
            "1    #Jogja |  Dinkes Gunungkidul Telusuri Warga Re...\n",
            "2    Jual Herbal Diabetes di Jogja, WA: 08967274191...\n",
            "3    Promo Honda Anugerah Jogja\\nBantu like dan sub...\n",
            "4    AVAIL SEKARANG BEB  RR DM✅  ,WJB CPAS,NOANAL♥🔑...\n",
            "Name: tweet, dtype: object\n"
          ],
          "name": "stdout"
        }
      ]
    },
    {
      "cell_type": "code",
      "metadata": {
        "trusted": true,
        "id": "WusfmB0knzvb",
        "colab_type": "code",
        "outputId": "7ff19453-0904-4039-f2e0-54ad95b1dcd8",
        "colab": {
          "base_uri": "https://localhost:8080/",
          "height": 68
        }
      },
      "source": [
        "print(f\"Jumlah data training (True)\\t:\\t{len(data_train_true)}\")\n",
        "print(f\"Jumlah data training (False)\\t:\\t{len(data_train_false)}\")\n",
        "print(f\"Jumlah data test\\t\\t:\\t{len(data_test)}\")"
      ],
      "execution_count": 6,
      "outputs": [
        {
          "output_type": "stream",
          "text": [
            "Jumlah data training (True)\t:\t20000\n",
            "Jumlah data training (False)\t:\t20000\n",
            "Jumlah data test\t\t:\t5327\n"
          ],
          "name": "stdout"
        }
      ]
    },
    {
      "cell_type": "code",
      "metadata": {
        "trusted": true,
        "id": "ep9oGAWPnzvf",
        "colab_type": "code",
        "colab": {}
      },
      "source": [
        "prostitute_tweets = data_train_true['tweet']\n",
        "not_prostitute_tweets = data_train_false['tweet']"
      ],
      "execution_count": 0,
      "outputs": []
    },
    {
      "cell_type": "markdown",
      "metadata": {
        "id": "Omi3ZmD6nzvi",
        "colab_type": "text"
      },
      "source": [
        "Ambil data dari kolom tweet dari setiap file"
      ]
    },
    {
      "cell_type": "code",
      "metadata": {
        "trusted": true,
        "id": "a4LIhSMsnzvi",
        "colab_type": "code",
        "colab": {}
      },
      "source": [
        "def cleaning(text):\n",
        "\ttext = re.sub(r'<[^>]+>', '', text) #delete html tags\n",
        "\ttext = re.sub(r'\\S*twitter.com\\S*', '', text)   #delete twitter image\n",
        "\ttext = re.sub(r'https?://[A-Za-z0-9./]+','',text) #delete url\n",
        "\ttext = re.sub(r'@[A-Za-z0-9]+','',text) #delete user mention\n",
        "\ttext = re.sub(r'#[A-Za-z0-9]+','',text) #delete twitter hashtag\n",
        "\ttext = re.sub(r'(?:(?:\\d+,?)+(?:\\.?\\d+)?)','', text) #delete number\n",
        "\ttext = re.sub(r\"[^a-zA-Z]\", \" \", text) #only accept alphabet char\n",
        "\ttext = re.sub(r\"(\\w)(\\1{2,})\", r'\\1', text) #delete repeated char\n",
        "\ttext = re.sub(r\"\\b[a-zA-Z]\\b\", \"\", text) #remove single character\n",
        "\ttext = text.lower() #change to lowercase\n",
        "\treturn text"
      ],
      "execution_count": 0,
      "outputs": []
    },
    {
      "cell_type": "markdown",
      "metadata": {
        "id": "M1DWaenJnzvp",
        "colab_type": "text"
      },
      "source": [
        "Lakukan pembersihan teks dari noise seperti, menghapus html tags, menghapus url gambar dari twitter, menghapus url, menghapus user mention, menghapus hashtag, dan mengkonversi semua huruf menjadi lowercase"
      ]
    },
    {
      "cell_type": "code",
      "metadata": {
        "id": "mham-KkWcPTW",
        "colab_type": "code",
        "colab": {}
      },
      "source": [
        "stopwords_file = open(\"stopwords-id.txt\", 'r')\n",
        "stopwords = [x.strip() for x in stopwords_file.readlines()]\n",
        "stopwords.extend(['by', 'rt', 'via'])"
      ],
      "execution_count": 0,
      "outputs": []
    },
    {
      "cell_type": "code",
      "metadata": {
        "trusted": true,
        "id": "rbCaRUFunzvq",
        "colab_type": "code",
        "colab": {}
      },
      "source": [
        "def tokenize(text):\n",
        "\twords = text.split();\n",
        "\twords = [w for w in words if w not in stopwords]\n",
        "\treturn words"
      ],
      "execution_count": 0,
      "outputs": []
    },
    {
      "cell_type": "markdown",
      "metadata": {
        "id": "Bn54Bgfsnzvu",
        "colab_type": "text"
      },
      "source": [
        "Melakukan tokenisasi, yaitu memecah setiap kata dalam kalimat menjadi per kata dan dimasukkan ke dalam list"
      ]
    },
    {
      "cell_type": "code",
      "metadata": {
        "trusted": true,
        "id": "VCO6QvGJnzvu",
        "colab_type": "code",
        "colab": {}
      },
      "source": [
        "positive_tweet_tokens = []\n",
        "for i in prostitute_tweets:\n",
        "\tpositive_tweet_tokens.append(tokenize(cleaning(i)))"
      ],
      "execution_count": 0,
      "outputs": []
    },
    {
      "cell_type": "code",
      "metadata": {
        "trusted": true,
        "id": "v8q1UrIGnzvx",
        "colab_type": "code",
        "colab": {}
      },
      "source": [
        "negative_tweet_tokens = []\n",
        "for i in not_prostitute_tweets:\n",
        "\tnegative_tweet_tokens.append(tokenize(cleaning(i)))"
      ],
      "execution_count": 0,
      "outputs": []
    },
    {
      "cell_type": "markdown",
      "metadata": {
        "id": "QM8px4EEnzv0",
        "colab_type": "text"
      },
      "source": [
        "Buat daftar kata dari seluruh data training yang sudah melalui tahap pembersihan dan sudah dikonversi menjadi bentuk token"
      ]
    },
    {
      "cell_type": "code",
      "metadata": {
        "trusted": true,
        "id": "XKG2xPIbnzv0",
        "colab_type": "code",
        "colab": {}
      },
      "source": [
        "def get_all_words(cleaned_token_list):\n",
        "\tfor tokens in cleaned_token_list:\n",
        "\t\tfor token in tokens:\n",
        "\t\t\tyield token\n",
        "\n",
        "def get_tweets_for_model(cleaned_tokens_list):\n",
        "\tfor tweet_tokens in cleaned_tokens_list:\n",
        "\t\tyield dict([token, True] for token in tweet_tokens)"
      ],
      "execution_count": 0,
      "outputs": []
    },
    {
      "cell_type": "code",
      "metadata": {
        "trusted": true,
        "id": "X-S8krLQnzv3",
        "colab_type": "code",
        "colab": {}
      },
      "source": [
        "all_pos_words = get_all_words(positive_tweet_tokens)\n",
        "all_neg_words = get_all_words(negative_tweet_tokens)\n",
        "freq_dist_pos = FreqDist(all_pos_words)\n",
        "freq_dist_neg = FreqDist(all_neg_words)"
      ],
      "execution_count": 0,
      "outputs": []
    },
    {
      "cell_type": "markdown",
      "metadata": {
        "id": "cruX4p2Inzv5",
        "colab_type": "text"
      },
      "source": [
        "Buat daftar kata beserta frekuensi kemunculan kata pada daftar seluruh kata **(Bag of words)**"
      ]
    },
    {
      "cell_type": "code",
      "metadata": {
        "trusted": true,
        "id": "hfc4q5Qvnzv6",
        "colab_type": "code",
        "outputId": "bb7f7115-1f3b-473f-e8d4-876fcb771330",
        "colab": {
          "base_uri": "https://localhost:8080/",
          "height": 54
        }
      },
      "source": [
        "print(f\"Kata yang sering muncul (True): {freq_dist_pos.most_common(10)}\")"
      ],
      "execution_count": 15,
      "outputs": [
        {
          "output_type": "stream",
          "text": [
            "Kata yang sering muncul (True): [('wa', 11387), ('open', 7716), ('dm', 6011), ('ya', 5767), ('bo', 5391), ('ready', 5356), ('jogja', 4876), ('rr', 3333), ('avail', 3211), ('say', 3121)]\n"
          ],
          "name": "stdout"
        }
      ]
    },
    {
      "cell_type": "code",
      "metadata": {
        "id": "oXp5PMrIdLLU",
        "colab_type": "code",
        "colab": {
          "base_uri": "https://localhost:8080/",
          "height": 54
        },
        "outputId": "6707fcf9-249a-48aa-de4d-a23a8d57463b"
      },
      "source": [
        "print(f\"Kata yang sering muncul (False): {freq_dist_neg.most_common(10)}\")"
      ],
      "execution_count": 16,
      "outputs": [
        {
          "output_type": "stream",
          "text": [
            "Kata yang sering muncul (False): [('yg', 3618), ('utm', 2935), ('orang', 2731), ('ya', 2060), ('dm', 1700), ('nak', 1659), ('ni', 1594), ('aja', 1302), ('twitter', 1068), ('ga', 1017)]\n"
          ],
          "name": "stdout"
        }
      ]
    },
    {
      "cell_type": "code",
      "metadata": {
        "trusted": true,
        "id": "GAICyEdKnzv9",
        "colab_type": "code",
        "colab": {}
      },
      "source": [
        "positive_tokens_for_model = get_tweets_for_model(positive_tweet_tokens)\n",
        "negative_tokens_for_model = get_tweets_for_model(negative_tweet_tokens)"
      ],
      "execution_count": 0,
      "outputs": []
    },
    {
      "cell_type": "code",
      "metadata": {
        "trusted": true,
        "id": "UEVPSnqunzwB",
        "colab_type": "code",
        "colab": {}
      },
      "source": [
        "positive_dataset = [(tweet_dict, \"True\")\n",
        "\t\t\t\t\t\tfor tweet_dict in positive_tokens_for_model]\n",
        "negative_dataset = [(tweet_dict, \"False\")\n",
        "\t\t\t\t\t\tfor tweet_dict in negative_tokens_for_model]"
      ],
      "execution_count": 0,
      "outputs": []
    },
    {
      "cell_type": "markdown",
      "metadata": {
        "id": "3vRHsw8LnzwE",
        "colab_type": "text"
      },
      "source": [
        "Berikan label pada setiap kata yang termasuk dalam kategori True dan False"
      ]
    },
    {
      "cell_type": "code",
      "metadata": {
        "trusted": true,
        "id": "da-Mfm2OnzwE",
        "colab_type": "code",
        "colab": {}
      },
      "source": [
        "dataset = positive_dataset + negative_dataset"
      ],
      "execution_count": 0,
      "outputs": []
    },
    {
      "cell_type": "code",
      "metadata": {
        "id": "nAMBVI6Zucq7",
        "colab_type": "code",
        "outputId": "4d3ee6a5-828e-4671-d141-bdf22e89f13c",
        "colab": {
          "base_uri": "https://localhost:8080/",
          "height": 34
        }
      },
      "source": [
        "print(len(dataset))"
      ],
      "execution_count": 20,
      "outputs": [
        {
          "output_type": "stream",
          "text": [
            "40000\n"
          ],
          "name": "stdout"
        }
      ]
    },
    {
      "cell_type": "markdown",
      "metadata": {
        "id": "kNvbPRecnzwG",
        "colab_type": "text"
      },
      "source": [
        "Gabungkan semua daftar kata dalam sebuah list"
      ]
    },
    {
      "cell_type": "code",
      "metadata": {
        "trusted": true,
        "id": "kAt0K-ybnzwH",
        "colab_type": "code",
        "colab": {}
      },
      "source": [
        "random.shuffle(dataset)"
      ],
      "execution_count": 0,
      "outputs": []
    },
    {
      "cell_type": "code",
      "metadata": {
        "trusted": true,
        "id": "4NaX_n1nnzwJ",
        "colab_type": "code",
        "colab": {}
      },
      "source": [
        "train_data = dataset[:40000]"
      ],
      "execution_count": 0,
      "outputs": []
    },
    {
      "cell_type": "markdown",
      "metadata": {
        "id": "GNwfX7uQnzwL",
        "colab_type": "text"
      },
      "source": [
        "Buat alokasi data training : data testing"
      ]
    },
    {
      "cell_type": "code",
      "metadata": {
        "trusted": true,
        "id": "H76P2RAonzwL",
        "colab_type": "code",
        "colab": {}
      },
      "source": [
        "classifier = NaiveBayesClassifier.train(train_data)"
      ],
      "execution_count": 0,
      "outputs": []
    },
    {
      "cell_type": "markdown",
      "metadata": {
        "id": "dcL-nQP3nayk",
        "colab_type": "text"
      },
      "source": [
        "Kemudian buat sample data test untuk dilakukan pengujian. Data testing yang di masukkan sudah dilakukan label secara manual true dan false nya agar dapat dilakukan validasi secara manual di pengujian menggunakan Confussion Matrix."
      ]
    },
    {
      "cell_type": "code",
      "metadata": {
        "id": "-2w6TAgjnaYW",
        "colab_type": "code",
        "colab": {}
      },
      "source": [
        "actual_status = []\n",
        "for i in data_test['status']:\n",
        "  if i == 1:\n",
        "    actual_status.append('True')\n",
        "  else:\n",
        "    actual_status.append('False')\n",
        "\n",
        "test_tweet = data_test['tweet']\n",
        "\n",
        "result_clasify = []\n",
        "tokenize_tweet_test = []\n",
        "for i in test_tweet:\n",
        "  test_tweet_tokens = tokenize(cleaning(i))\n",
        "  tokenize_tweet_test.append(test_tweet_tokens)\n",
        "  result_clasify.append(classifier.classify(dict([token, True] for token in test_tweet_tokens)))\n",
        "\n",
        "tweet_tokens_model = get_tweets_for_model(tokenize_tweet_test)\n",
        "\n",
        "datatest_result = []\n",
        "for (tweet_dict, i) in zip(tweet_tokens_model, result_clasify):\n",
        "  datatest_result += [(tweet_dict, i)]"
      ],
      "execution_count": 0,
      "outputs": []
    },
    {
      "cell_type": "code",
      "metadata": {
        "trusted": true,
        "id": "qPX3wCHBnzwP",
        "colab_type": "code",
        "outputId": "d1320ba4-b4cc-446c-dd1d-0b2cd9b0532e",
        "colab": {
          "base_uri": "https://localhost:8080/",
          "height": 34
        }
      },
      "source": [
        "print(\"Akurasi Klasifikasi Naive Bayes\\t:\\t\"+\"{:.2f}\".format(classify.accuracy(classifier, datatest_result) * 100)+\" %\")"
      ],
      "execution_count": 29,
      "outputs": [
        {
          "output_type": "stream",
          "text": [
            "Akurasi Klasifikasi Naive Bayes\t:\t100.00 %\n"
          ],
          "name": "stdout"
        }
      ]
    },
    {
      "cell_type": "code",
      "metadata": {
        "trusted": true,
        "id": "b3Zd-TxmnzwR",
        "colab_type": "code",
        "colab": {}
      },
      "source": [
        "test_result = []\n",
        "classifier_result = []\n",
        "labeled_data = []\n",
        "\n",
        "for i in range(len(datatest_result)):\n",
        "\ttest_result.append(classifier.classify(datatest_result[i][0]))\n",
        "\tclassifier_result.append(datatest_result[i][1])\n",
        "\n",
        "c_matrix = nltk.ConfusionMatrix(classifier_result, actual_status)"
      ],
      "execution_count": 0,
      "outputs": []
    },
    {
      "cell_type": "markdown",
      "metadata": {
        "id": "bbnk_yxqnzwT",
        "colab_type": "text"
      },
      "source": [
        "Lakukan pengujian menggunakan confusion matrix"
      ]
    },
    {
      "cell_type": "code",
      "metadata": {
        "trusted": true,
        "id": "E_2qMuO1nzwT",
        "colab_type": "code",
        "outputId": "fb0dce7c-dc48-4fd4-e616-256a343741cc",
        "colab": {
          "base_uri": "https://localhost:8080/",
          "height": 221
        }
      },
      "source": [
        "print(f\"Confusion Matrix :\\n{c_matrix}\", )"
      ],
      "execution_count": 34,
      "outputs": [
        {
          "output_type": "stream",
          "text": [
            "Confusion Matrix :\n",
            "      |    F      |\n",
            "      |    a    T |\n",
            "      |    l    r |\n",
            "      |    s    u |\n",
            "      |    e    e |\n",
            "------+-----------+\n",
            "False |<4042>  24 |\n",
            " True |  290 <971>|\n",
            "------+-----------+\n",
            "(row = reference; col = test)\n",
            "\n"
          ],
          "name": "stdout"
        }
      ]
    },
    {
      "cell_type": "code",
      "metadata": {
        "trusted": true,
        "id": "EomLZ-5pnzwW",
        "colab_type": "code",
        "outputId": "7324e1db-7c3f-40b6-9620-b3ffc3a3eaa6",
        "colab": {
          "base_uri": "https://localhost:8080/",
          "height": 85
        }
      },
      "source": [
        "labels = {'True', 'False'}\n",
        "\n",
        "TP, FN, FP = Counter(), Counter(), Counter()\n",
        "for i in labels:\n",
        "\tfor j in labels:\n",
        "\t\tif i == j:\n",
        "\t\t\tTP[i] += int(c_matrix[i,j])\n",
        "\t\telse:\n",
        "\t\t\tFN[i] += int(c_matrix[i,j])\n",
        "\t\t\tFP[j] += int(c_matrix[i,j])\n",
        "print(\"label   | precision             | recall                | f_measure         \")\n",
        "print(\"--------+-----------------------+-----------------------+-------------------\")\n",
        "for label in sorted(labels):\n",
        "\tprecision, recall = 0, 0\n",
        "\tif TP[label] == 0:\n",
        "\t\tf_measure = 0\n",
        "\telse:\n",
        "\t\tprecision = float(TP[label]) / (TP[label]+FP[label])\n",
        "\t\trecall = float(TP[label]) / (TP[label]+FN[label])\n",
        "\t\tf_measure = float(2) * (precision * recall) / (precision + recall)\n",
        "\tprint(f\"{label}\\t| {precision}\\t| {recall}\\t| {f_measure}\")"
      ],
      "execution_count": 35,
      "outputs": [
        {
          "output_type": "stream",
          "text": [
            "label   | precision             | recall                | f_measure         \n",
            "--------+-----------------------+-----------------------+-------------------\n",
            "False\t| 0.933056325023084\t| 0.9940973930152484\t| 0.9626101452726838\n",
            "True\t| 0.9758793969849247\t| 0.7700237906423474\t| 0.8608156028368794\n"
          ],
          "name": "stdout"
        }
      ]
    },
    {
      "cell_type": "code",
      "metadata": {
        "trusted": true,
        "id": "4N_y1uRLnzwY",
        "colab_type": "code",
        "outputId": "0fc9fdd6-874f-4d15-e029-fd586315c92c",
        "colab": {
          "base_uri": "https://localhost:8080/",
          "height": 391
        }
      },
      "source": [
        "print(classifier.show_most_informative_features(20))"
      ],
      "execution_count": 36,
      "outputs": [
        {
          "output_type": "stream",
          "text": [
            "Most Informative Features\n",
            "                      bo = True             True : False  =    910.3 : 1.0\n",
            "                 twitter = True            False : True   =    413.0 : 1.0\n",
            "                 content = True            False : True   =    367.0 : 1.0\n",
            "                     exc = True             True : False  =    365.0 : 1.0\n",
            "                 slotnya = True             True : False  =    315.0 : 1.0\n",
            "                    like = True            False : True   =    309.7 : 1.0\n",
            "                   salah = True            False : True   =    308.3 : 1.0\n",
            "                      rr = True             True : False  =    266.3 : 1.0\n",
            "                 include = True             True : False  =    249.8 : 1.0\n",
            "                      tu = True            False : True   =    248.6 : 1.0\n",
            "               indonesia = True            False : True   =    245.0 : 1.0\n",
            "                     inc = True             True : False  =    244.6 : 1.0\n",
            "                      lt = True             True : False  =    244.5 : 1.0\n",
            "                     bra = True             True : False  =    217.0 : 1.0\n",
            "                  privat = True             True : False  =    215.0 : 1.0\n",
            "                     end = True            False : True   =    213.0 : 1.0\n",
            "                 exclude = True             True : False  =    211.9 : 1.0\n",
            "                    jual = True            False : True   =    209.7 : 1.0\n",
            "                     vcs = True             True : False  =    203.9 : 1.0\n",
            "                     beb = True             True : False  =    190.4 : 1.0\n",
            "None\n"
          ],
          "name": "stdout"
        }
      ]
    },
    {
      "cell_type": "markdown",
      "metadata": {
        "id": "f-fioCgUoyjI",
        "colab_type": "text"
      },
      "source": [
        "Disini, sudah dapat digunakan untuk memprediksi data baru untuk melakukan klasifikasi tweet berdasarkan input an."
      ]
    },
    {
      "cell_type": "code",
      "metadata": {
        "id": "7vCKhE0wox9Y",
        "colab_type": "code",
        "colab": {}
      },
      "source": [
        "custom_tweet_first = \"jarang jarang hari ini bisa bertemu dengan orang tercinta\"\n",
        "custom_tweet_second = \"hari ini ready jogja cod tanpa dp wajib pengaman\""
      ],
      "execution_count": 0,
      "outputs": []
    },
    {
      "cell_type": "code",
      "metadata": {
        "id": "E6SlkN5epS_S",
        "colab_type": "code",
        "colab": {}
      },
      "source": [
        "cleaned_custom_tokens_first = tokenize(cleaning(custom_tweet_first))\n",
        "cleaned_custom_tokens_second = tokenize(cleaning(custom_tweet_second))"
      ],
      "execution_count": 0,
      "outputs": []
    },
    {
      "cell_type": "code",
      "metadata": {
        "id": "3dAEk8NRpbZP",
        "colab_type": "code",
        "colab": {}
      },
      "source": [
        "result_tweet_first = classifier.classify(dict([token, True] for token in cleaned_custom_tokens_first))\n",
        "result_tweet_second = classifier.classify(dict([token, True] for token in cleaned_custom_tokens_second))"
      ],
      "execution_count": 0,
      "outputs": []
    },
    {
      "cell_type": "code",
      "metadata": {
        "id": "tTOFWwjppq6q",
        "colab_type": "code",
        "colab": {
          "base_uri": "https://localhost:8080/",
          "height": 51
        },
        "outputId": "efc2b3f8-3006-4953-e5a9-c1055d371d38"
      },
      "source": [
        "print(f\"First Tweet: {result_tweet_first}\")\n",
        "print(f\"Second Tweet: {result_tweet_second}\")"
      ],
      "execution_count": 46,
      "outputs": [
        {
          "output_type": "stream",
          "text": [
            "First Tweet: False\n",
            "Second Tweet: True\n"
          ],
          "name": "stdout"
        }
      ]
    }
  ]
}